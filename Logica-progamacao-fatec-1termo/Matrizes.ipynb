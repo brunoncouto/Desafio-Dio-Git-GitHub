{
  "nbformat": 4,
  "nbformat_minor": 0,
  "metadata": {
    "colab": {
      "name": "Bruno Couto - 212_Matriz_n.ipynb",
      "provenance": [],
      "collapsed_sections": []
    },
    "kernelspec": {
      "name": "python3",
      "display_name": "Python 3"
    }
  },
  "cells": [
    {
      "cell_type": "markdown",
      "metadata": {
        "id": "skN-Wz61xZzi"
      },
      "source": [
        "### 1. Faça um programa que leia uma matriz 2x3 (2 linhas, 3 colunas). Apresente os elementos da matriz e seus respectivos índices."
      ]
    },
    {
      "cell_type": "code",
      "metadata": {
        "id": "Wbjafj_QxWP-",
        "colab": {
          "base_uri": "https://localhost:8080/"
        },
        "outputId": "a2f28e8d-f598-4c1c-e025-59dad5a71333"
      },
      "source": [
        "# criar/inicializar a variável que somará\n",
        "matriz = [] # ................................................... Lendo a matriz\n",
        "for lin in range(2):\n",
        "    linha = []\n",
        "    for col in range(3): \n",
        "        linha.append(int(input('Digite o valor ['+ str(lin) + '][' + str(col) + ']: ')))\n",
        "    matriz.append(linha)\n",
        "\n",
        "for lin in range(2):\n",
        "    for col in range(3): \n",
        "       \n",
        "        print(matriz[lin][col], end='\\t')\n",
        "    print()\n"
      ],
      "execution_count": null,
      "outputs": [
        {
          "output_type": "stream",
          "name": "stdout",
          "text": [
            "Digite o valor [0][0]: 0\n",
            "Digite o valor [0][1]: 1\n",
            "Digite o valor [0][2]: 2\n",
            "Digite o valor [1][0]: 3\n",
            "Digite o valor [1][1]: 4\n",
            "Digite o valor [1][2]: 5\n",
            "0\t1\t2\t\n",
            "3\t4\t5\t\n"
          ]
        }
      ]
    },
    {
      "cell_type": "markdown",
      "metadata": {
        "id": "0jPoba3-yLnG"
      },
      "source": [
        "### 2. Faça um programa que carregue uma matriz 2 x 2, que representa o salário de 4 funcionários, calcule e mostre a soma total de todos os elementos que será o montante pago pela empresa a esses funcionários."
      ]
    },
    {
      "cell_type": "code",
      "metadata": {
        "id": "UHD2oMlJyLzc",
        "colab": {
          "base_uri": "https://localhost:8080/"
        },
        "outputId": "6c0d0d66-e830-4848-a6c0-7239b8fa4ba6"
      },
      "source": [
        "matrix = []\n",
        "soma = 0\n",
        "for lin in range(2):\n",
        "  linha = []\n",
        "  for col in range(2):\n",
        "    linha.append(float(input('Insira o valor do salário: ')))\n",
        "    #soma = soma + linha[col]\n",
        "  matrix.append(linha)\n",
        "  \n",
        "\n",
        "for lin in range(2):\n",
        "  for col in range(2):\n",
        "    soma = soma + matrix[lin][col]\n",
        "    print(matrix[lin][col], end='\\t')\n",
        "  print()\n",
        "print(soma)"
      ],
      "execution_count": null,
      "outputs": [
        {
          "output_type": "stream",
          "name": "stdout",
          "text": [
            "Insira o valor do salário: 10\n",
            "Insira o valor do salário: 10\n",
            "Insira o valor do salário: 10\n",
            "Insira o valor do salário: 10\n",
            "10.0\t10.0\t\n",
            "10.0\t10.0\t\n",
            "40.0\n"
          ]
        }
      ]
    },
    {
      "cell_type": "markdown",
      "metadata": {
        "id": "HAz_eYfhzg06"
      },
      "source": [
        "### 3. Faça um programa que carregue uma matriz 3 x 2, que representa preços de produtos, crie OUTRA matriz que armazene todos os preços com 7% de aumento."
      ]
    },
    {
      "cell_type": "code",
      "metadata": {
        "id": "Cg-NIjInzfmU"
      },
      "source": [
        "preco = [] # ................................................... Lendo a matriz\n",
        "for lin in range(3):\n",
        "    vetor = []\n",
        "    for col in range(2): \n",
        "        vetor.append(float(input('Digite o preço ['+ str(lin) + '][' + str(col) + ']: ')))\n",
        "    preco.append(vetor)\n",
        "\n",
        "# len(preco), informa a quantidade de linhas\n",
        "# len(preco[0]), informa a quantidade de colunas\n",
        "aumento = []\n",
        "print('\\nApresentando a matriz dos preços................')\n",
        "for lin in range(len(preco)):  # ................... Apresentando a matriz preço\n",
        "    vetor = []\n",
        "    for col in range(len(preco[0])): \n",
        "        vetor.append(preco[lin][col] + preco[lin][col] * 7 / 100)\n",
        "        print(f'{preco[lin][col]:.2f}',end='\\t')\n",
        "    aumento.append(vetor)\n",
        "    print()\n",
        "\n",
        "print('\\nApresentando a matriz após os aumentos .........')\n",
        "for lin in range(len(aumento)):# ................. Apresentando a matriz aumento\n",
        "  for col in range(len(aumento[0])):\n",
        "    print(f'{​​​aumento[lin][col]:.2f}​​​', end='\\t') \n",
        "  print()"
      ],
      "execution_count": null,
      "outputs": []
    },
    {
      "cell_type": "markdown",
      "metadata": {
        "id": "_aPd4c1b3OjS"
      },
      "source": [
        "### 4. Faça um programa para armazenar em uma matriz 5x2 preços. Encontre e apresente os ÍNDICES dos valores menores que 23 reais."
      ]
    },
    {
      "cell_type": "code",
      "metadata": {
        "id": "Q6LPIy_LCQuO"
      },
      "source": [
        "preco = []\n",
        "for lin in range(5):\n",
        "  linha = []\n",
        "  for col in range(2):\n",
        "    linha.append(float(input('Entre com o preço em $:')))\n",
        "  preco.append(linha)\n",
        "print()\n",
        "\n",
        "for lin in range(5):\n",
        "  for col in range(2):\n",
        "    if preco[lin][col] < 23:\n",
        "      print('O produto de índice ['+ str (lin) +']['+ str(col) + '] é menor que R$ 23.00')\n",
        "   "
      ],
      "execution_count": null,
      "outputs": []
    },
    {
      "cell_type": "markdown",
      "metadata": {
        "id": "JgYwP3n1CQ_U"
      },
      "source": [
        "### 5. Faça um programa que leia números inteiros m e n e os elementos de uma matriz A de números inteiros de dimensão m x n e conte o número de elementos que são iguais a zero.\n"
      ]
    },
    {
      "cell_type": "code",
      "metadata": {
        "id": "fb6TwQ_yh_To"
      },
      "source": [
        "m = int(input('Entre com um número: '))\n",
        "n = int(input('Entre com um número: '))\n",
        "matriz = []\n",
        "contador = 0\n",
        "for lin in range(m):\n",
        "  linha = []\n",
        "  for col in range(n):\n",
        "    linha.append(int(input('Entre com um número: ')))\n",
        "  matriz.append(linha)\n",
        "print()\n",
        "for lin in range(m):\n",
        "  for col in range(n):\n",
        "    if matriz[lin][col] == 0:\n",
        "      contador += 1\n",
        "print(contador, ' números são iguais a zero')\n",
        "print()\n",
        "print('A matriz é composta pelos números abaixo:')\n",
        "for lin in range(m):\n",
        "  for col in range(n):\n",
        "    print(matriz[lin][col], end='\\t')\n",
        "  print()\n"
      ],
      "execution_count": null,
      "outputs": []
    },
    {
      "cell_type": "markdown",
      "metadata": {
        "id": "fZNXRUrrh_g9"
      },
      "source": [
        "### 6. Faça um programa que carregue: *um vetor com oito posições com os nomes das lojas; * um outro vetor com quatro posições com os nomes dos produtos; * uma matriz (8 x 4) com os preços de todos os produtos em cada loja. O programa deve mostrar todas as relações (nome da loja - nome do produto e preço), nas quais o preço não ultrapasse R$ 120,00.\n"
      ]
    },
    {
      "cell_type": "code",
      "metadata": {
        "id": "A4-CekXy0vrz"
      },
      "source": [
        "# for lin até 8    lojas\n",
        "#    for col até 4    produtos\n",
        "loja = []\n",
        "produtos = []\n",
        "matriz = []\n",
        "for lin in range(8):\n",
        "  loja.append(str(input('Insira o nome da loja: ')))\n",
        "for lin in range(4):\n",
        "  produtos.append(str(input('Insira o nome dos produtos ')))\n",
        "print()\n",
        "for lin in range(8):\n",
        "  preco = []\n",
        "  for col in range(4):\n",
        "    preco.append(float(input('Entre com o valor do produto em R$ ')))\n",
        "  matriz.append(preco)\n",
        "print()\n",
        "for lin in range(8):\n",
        "  for col in range(4):\n",
        "    if matriz[lin][col] < 120.00:\n",
        "      print(loja[lin], produtos[lin], 'R$ ', matriz[lin][col], end='\\t')\n",
        "    print()\n",
        "\n",
        "\n",
        "\n"
      ],
      "execution_count": null,
      "outputs": []
    }
  ]
}