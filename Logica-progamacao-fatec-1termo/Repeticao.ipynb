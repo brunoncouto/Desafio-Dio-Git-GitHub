{
  "nbformat": 4,
  "nbformat_minor": 0,
  "metadata": {
    "colab": {
      "name": "Bruno Couto - 212_Est_Repeticao_N.ipynb",
      "provenance": [],
      "collapsed_sections": []
    },
    "kernelspec": {
      "name": "python3",
      "display_name": "Python 3"
    }
  },
  "cells": [
    {
      "cell_type": "markdown",
      "metadata": {
        "id": "TWJjhvldsGq1"
      },
      "source": [
        "#ESTRUTURA DE REPETIÇÃO\n",
        "##Todos estes algoritmos/programas podem ser implementados com o comando **while** ou **for**. Para estudar, implemente cada exercício com as **duas** estruturas de repetição"
      ]
    },
    {
      "cell_type": "markdown",
      "metadata": {
        "id": "FQ8PsTS0Gjax"
      },
      "source": [
        ""
      ]
    },
    {
      "cell_type": "code",
      "metadata": {
        "id": "IilYs0vlGkSs"
      },
      "source": [
        ""
      ],
      "execution_count": null,
      "outputs": []
    },
    {
      "cell_type": "markdown",
      "metadata": {
        "id": "ra2ortoj88ct"
      },
      "source": [
        "###1. Faça um algoritmo  que mostre 10 vezes a frase “Bem vindo a Fatec!”. Pode implementar com o comando while ou for."
      ]
    },
    {
      "cell_type": "code",
      "metadata": {
        "id": "w87cAtUi9P5j",
        "colab": {
          "base_uri": "https://localhost:8080/"
        },
        "outputId": "a553b4bb-ce3d-4b5c-afb2-d7f3e1061b89"
      },
      "source": [
        "print('Usando while');\n",
        "contagem = 1;\n",
        "while contagem <= 10:\n",
        "  print(contagem, 'Bem vindo a Fatec')\n",
        "  contagem += 1\n",
        "print('Usando for');\n",
        "contagem = 1;\n",
        "for contagem in range (1, 11):\n",
        "  print(contagem, 'Bem vindo a Fatec')\n",
        "  contagem += 1\n"
      ],
      "execution_count": null,
      "outputs": [
        {
          "output_type": "stream",
          "name": "stdout",
          "text": [
            "Usando while\n",
            "1 Bem vindo a Fatec\n",
            "2 Bem vindo a Fatec\n",
            "3 Bem vindo a Fatec\n",
            "4 Bem vindo a Fatec\n",
            "5 Bem vindo a Fatec\n",
            "6 Bem vindo a Fatec\n",
            "7 Bem vindo a Fatec\n",
            "8 Bem vindo a Fatec\n",
            "9 Bem vindo a Fatec\n",
            "10 Bem vindo a Fatec\n",
            "Usando for\n",
            "1 Bem vindo a Fatec\n",
            "2 Bem vindo a Fatec\n",
            "3 Bem vindo a Fatec\n",
            "4 Bem vindo a Fatec\n",
            "5 Bem vindo a Fatec\n",
            "6 Bem vindo a Fatec\n",
            "7 Bem vindo a Fatec\n",
            "8 Bem vindo a Fatec\n",
            "9 Bem vindo a Fatec\n",
            "10 Bem vindo a Fatec\n"
          ]
        }
      ]
    },
    {
      "cell_type": "markdown",
      "metadata": {
        "id": "Tz26_Q_09QzZ"
      },
      "source": [
        "###2. Faça um algoritmo que mostre o cumprimento ‘Olá ‘ para o nome de alguém (4 pessoas). Exemplo ‘Olá Mariana’. Pode implementar com o comando while ou for.\n",
        " "
      ]
    },
    {
      "cell_type": "code",
      "metadata": {
        "id": "EK8e5Oxn9eFX",
        "colab": {
          "base_uri": "https://localhost:8080/"
        },
        "outputId": "b5195885-bb90-42c1-fd36-6c306cf47f75"
      },
      "source": [
        "print('Método for');\n",
        "contagem = 0\n",
        "for contagem in range (4):\n",
        "  nome = input('');\n",
        "  print ('Olá, ', nome);\n",
        "  contagem +=1;\n",
        "print('Método while');\n",
        "contagem = 0;\n",
        "while contagem < 4:\n",
        "  nome = input('');\n",
        "  print ('Olá, ', nome);\n",
        "  contagem += 1;A"
      ],
      "execution_count": null,
      "outputs": [
        {
          "output_type": "stream",
          "name": "stdout",
          "text": [
            "Método for\n",
            "Bruna\n",
            "Olá,  Bruna\n",
            "Ana\n",
            "Olá,  Ana\n",
            "Luana\n",
            "Olá,  Luana\n",
            "Laura\n",
            "Olá,  Laura\n",
            "Método while\n",
            "Otávio\n",
            "Olá,  Otávio\n",
            "Luan\n",
            "Olá,  Luan\n",
            "Heitor\n",
            "Olá,  Heitor\n",
            "Jorge\n",
            "Olá,  Jorge\n"
          ]
        }
      ]
    },
    {
      "cell_type": "markdown",
      "metadata": {
        "id": "-tIGmOam9eaB"
      },
      "source": [
        "###3. Faça um algoritmo que mostre os valores de 0 a 15. Pode implementar com o comando while ou for.\n"
      ]
    },
    {
      "cell_type": "code",
      "metadata": {
        "id": "PVFy9VEE9jy9",
        "colab": {
          "base_uri": "https://localhost:8080/"
        },
        "outputId": "ce7808f8-b47e-4159-a668-3358c6a0c6eb"
      },
      "source": [
        "print('For');\n",
        "conta = 0\n",
        "for conta in range (16):\n",
        "  print(conta)\n",
        "  conta = conta + 1;\n",
        "print('While');\n",
        "conta = 0\n",
        "while conta < 16:\n",
        "  print(conta)\n",
        "  conta = conta + 1;\n"
      ],
      "execution_count": null,
      "outputs": [
        {
          "output_type": "stream",
          "name": "stdout",
          "text": [
            "For\n",
            "0\n",
            "1\n",
            "2\n",
            "3\n",
            "4\n",
            "5\n",
            "6\n",
            "7\n",
            "8\n",
            "9\n",
            "10\n",
            "11\n",
            "12\n",
            "13\n",
            "14\n",
            "15\n",
            "While\n",
            "0\n",
            "1\n",
            "2\n",
            "3\n",
            "4\n",
            "5\n",
            "6\n",
            "7\n",
            "8\n",
            "9\n",
            "10\n",
            "11\n",
            "12\n",
            "13\n",
            "14\n",
            "15\n"
          ]
        }
      ]
    },
    {
      "cell_type": "markdown",
      "metadata": {
        "id": "n2GgpaGP9j-A"
      },
      "source": [
        "###4. Faça um algoritmo que mostre os valores de 3 a 20. Pode implementar com o comando while ou for.\n"
      ]
    },
    {
      "cell_type": "code",
      "metadata": {
        "id": "lqitidIO9rOm",
        "colab": {
          "base_uri": "https://localhost:8080/"
        },
        "outputId": "c4ebe2e0-bf77-4974-eca5-619bc70609f6"
      },
      "source": [
        "print('While');\n",
        "conta = 0\n",
        "while conta <= 20:\n",
        "  conta = conta + 1;\n",
        "  if conta == 3 and conta <= 20:\n",
        "      while conta <= 20:\n",
        "        print(conta);\n",
        "        conta = conta + 1;\n",
        "\n",
        "\n",
        "print('For');\n",
        "conta = 0\n",
        "for conta in range (21):\n",
        "  conta = conta + 1;\n",
        "  if conta == 3 and conta <= 20:\n",
        "    for conta in range (18):\n",
        "      print(conta);\n",
        "      conta = conta + 1;\n",
        "\n",
        "    "
      ],
      "execution_count": null,
      "outputs": [
        {
          "output_type": "stream",
          "name": "stdout",
          "text": [
            "While\n",
            "3\n",
            "4\n",
            "5\n",
            "6\n",
            "7\n",
            "8\n",
            "9\n",
            "10\n",
            "11\n",
            "12\n",
            "13\n",
            "14\n",
            "15\n",
            "16\n",
            "17\n",
            "18\n",
            "19\n",
            "20\n",
            "For\n",
            "0\n",
            "1\n",
            "2\n",
            "3\n",
            "4\n",
            "5\n",
            "6\n",
            "7\n",
            "8\n",
            "9\n",
            "10\n",
            "11\n",
            "12\n",
            "13\n",
            "14\n",
            "15\n",
            "16\n",
            "17\n"
          ]
        }
      ]
    },
    {
      "cell_type": "markdown",
      "metadata": {
        "id": "C8RRCFc_9sTL"
      },
      "source": [
        "###5. Faça um algoritmo que calcule e mostre a tabuada do 5. Pode implementar com o comando while ou for.\n"
      ]
    },
    {
      "cell_type": "code",
      "metadata": {
        "id": "4QBLg1ka91dV",
        "colab": {
          "base_uri": "https://localhost:8080/"
        },
        "outputId": "a21b2052-de9a-494c-daad-2a882067b20d"
      },
      "source": [
        "print('While');\n",
        "tabuada = 5;\n",
        "fator = 0;\n",
        "resultado = tabuada * fator;\n",
        "while resultado < 50:\n",
        "  resultado = tabuada * fator;\n",
        "  fator = fator + 1;\n",
        "  print(resultado);\n",
        "\n",
        "print('For');\n",
        "tabuada = 5;\n",
        "fator = 0;\n",
        "resultado = tabuada * fator;\n",
        "for resultado in range (11):\n",
        "  resultado = tabuada * fator;\n",
        "  fator = fator + 1;\n",
        "  print(resultado);\n"
      ],
      "execution_count": null,
      "outputs": [
        {
          "output_type": "stream",
          "name": "stdout",
          "text": [
            "While\n",
            "0\n",
            "5\n",
            "10\n",
            "15\n",
            "20\n",
            "25\n",
            "30\n",
            "35\n",
            "40\n",
            "45\n",
            "50\n",
            "For\n",
            "0\n",
            "5\n",
            "10\n",
            "15\n",
            "20\n",
            "25\n",
            "30\n",
            "35\n",
            "40\n",
            "45\n",
            "50\n"
          ]
        }
      ]
    },
    {
      "cell_type": "markdown",
      "metadata": {
        "id": "nJv5jBoq91tW"
      },
      "source": [
        "###6. Faça um algoritmo que receba a idade de 10 pessoas, calcule e exiba a quantidade de pessoas maiores de idade, sendo que a maioridade é obtida após completar 18 anos. Pode implementar com o comando while ou for.\n"
      ]
    },
    {
      "cell_type": "code",
      "metadata": {
        "id": "FXOsNMt_96QH"
      },
      "source": [
        "print('while')\n",
        "contagem = 1;\n",
        "maior = 0;\n",
        "while contagem <= 10:\n",
        "  idade = int(input('Insira uma idade'));\n",
        "  if idade >= 18:\n",
        "    maior = maior + 1;\n",
        "  contagem = contagem + 1;\n",
        "print(maior);\n",
        "print('for')\n",
        "contagem = 1;\n",
        "maior = 0;\n",
        "for contagem in range (10):\n",
        "  idade = int(input('Insira uma idade'));\n",
        "  if idade >= 18:\n",
        "    maior = maior + 1;\n",
        "  contagem = contagem + 1;\n",
        "print(maior);\n",
        "    "
      ],
      "execution_count": null,
      "outputs": []
    },
    {
      "cell_type": "markdown",
      "metadata": {
        "id": "g5RA7KN896ep"
      },
      "source": [
        "###7. Escreva um algoritmo que receba 23 números, calcule e exiba a quantidade de números pares e impares. Pode implementar com o comando while ou for.\n"
      ]
    },
    {
      "cell_type": "code",
      "metadata": {
        "id": "JBnJiugI9_Q1",
        "colab": {
          "base_uri": "https://localhost:8080/"
        },
        "outputId": "c6328b03-40e8-4236-bc44-b0936ba62117"
      },
      "source": [
        "print('while');\n",
        "contagem = 1\n",
        "par = 0;\n",
        "impar = 0\n",
        "while contagem <= 23:\n",
        "  numero = int(input('Insira um número'));\n",
        "  if numero % 2 == 0:\n",
        "    par = par + 1;\n",
        "  elif numero % 2 != 0:\n",
        "    impar = impar + 1;\n",
        "  contagem = contagem + 1;\n",
        "print(par, 'números pares e', impar, 'números impares');\n",
        "\n",
        "print('for');\n",
        "contagem = 1\n",
        "par = 0;\n",
        "impar = 0\n",
        "for contagem in range (23):\n",
        "  numero = int(input('Insira um número'));\n",
        "  if numero % 2 == 0:\n",
        "    par = par + 1;\n",
        "  elif numero % 2 != 0:\n",
        "    impar = impar + 1;\n",
        "  contagem = contagem + 1;\n",
        "print(par, 'números pares e', impar, 'números impares');"
      ],
      "execution_count": null,
      "outputs": [
        {
          "output_type": "stream",
          "name": "stdout",
          "text": [
            "while\n",
            "Insira um número1\n",
            "Insira um número2\n",
            "Insira um número3\n",
            "Insira um número4\n",
            "Insira um número5\n",
            "Insira um número6\n",
            "Insira um número7\n",
            "Insira um número8\n",
            "Insira um número9\n",
            "Insira um número10\n",
            "Insira um número11\n",
            "Insira um número12\n",
            "Insira um número13\n",
            "Insira um número14\n",
            "Insira um número15\n",
            "Insira um número16\n",
            "Insira um número17\n",
            "Insira um número18\n",
            "Insira um número19\n",
            "Insira um número20\n",
            "Insira um número21\n",
            "Insira um número22\n",
            "Insira um número23\n",
            "11 números pares e 12 números impares\n"
          ]
        }
      ]
    },
    {
      "cell_type": "markdown",
      "metadata": {
        "id": "DVuRwa6J9_in"
      },
      "source": [
        "###8. Faça um algoritmo que calcule e exiba o salário reajustado de dez funcionários de acordo com a seguinte regra (pode implementar com o comando while ou for): \n",
        "## Salário até 300, reajuste de 50%; \n",
        "\n",
        "##Salários maiores que 300, reajuste de 30%.\n",
        "\n",
        "\n"
      ]
    },
    {
      "cell_type": "code",
      "metadata": {
        "id": "GnYXpwwH-Drd"
      },
      "source": [
        "print('while');\n",
        "contagem = 1;\n",
        "while contagem <= 10:\n",
        "  salario = float(input('Insira o salário '));\n",
        "  if salario <= 300:\n",
        "    reajuste = salario * 50 / 100;\n",
        "    novo = salario + reajuste;\n",
        "    print('Salário reajustado é R$', novo);\n",
        "  else:\n",
        "    reajuste = salario * 30 / 100;\n",
        "    novo = salario + reajuste;\n",
        "    print('Salário reajustado é R$', novo);    \n",
        "  contagem = contagem + 1;\n",
        "print('for')\n",
        "contagem = 1;\n",
        "for contagem in range (10):\n",
        "  salario = float(input('Insira o salário '));\n",
        "  if salario <= 300:\n",
        "    reajuste = salario * 50 / 100;\n",
        "    novo = salario + reajuste;\n",
        "    print('Salário reajustado é R$', novo);\n",
        "  else:\n",
        "    reajuste = salario * 30 / 100;\n",
        "    novo = salario + reajuste;\n",
        "    print('Salário reajustado é R$', novo);    \n",
        "  contagem = contagem + 1;"
      ],
      "execution_count": null,
      "outputs": []
    },
    {
      "cell_type": "markdown",
      "metadata": {
        "id": "WWEunLW8-D2h"
      },
      "source": [
        "\n",
        "###9. Faça um algoritmo que conheça 4 preços de produtos, some-os e mostre o resultado. Pode implementar com o comando while ou for.\n"
      ]
    },
    {
      "cell_type": "code",
      "metadata": {
        "id": "N9cUIxJk-HLg"
      },
      "source": [
        "print('while')\n",
        "contagem = 1;\n",
        "soma = 0;\n",
        "while contagem <= 4 :\n",
        "  preco = float(input('Insira o valor do produto '));\n",
        "  soma = soma + preco;\n",
        "  contagem = contagem + 1;\n",
        "print('Soma é R$', soma)\n",
        "\n",
        "print('for');\n",
        "print('while')\n",
        "contagem = 1;\n",
        "soma = 0;\n",
        "for contagem in range (4) :\n",
        "  preco = float(input('Insira o valor do produto '));\n",
        "  soma = soma + preco;\n",
        "  contagem = contagem + 1;\n",
        "print('Soma é R$', soma)"
      ],
      "execution_count": null,
      "outputs": []
    },
    {
      "cell_type": "markdown",
      "metadata": {
        "id": "cTQOtgv8-TqZ"
      },
      "source": [
        "###11. Faça um algoritmo que conheça 4 preços de produtos, calcule e mostre a média aritmética dos preços. Pode implementar com o comando while ou for.\n"
      ]
    },
    {
      "cell_type": "code",
      "metadata": {
        "id": "kIGzHgii-Teb",
        "colab": {
          "base_uri": "https://localhost:8080/"
        },
        "outputId": "2010a691-5b9c-4077-fd12-76846c14987c"
      },
      "source": [
        "print('while')\n",
        "contagem = 1;\n",
        "soma = 0;\n",
        "while contagem <= 4 :\n",
        "  preco = float(input('Insira o valor do produto '));\n",
        "  soma = soma + preco;\n",
        "  media = soma / 4;\n",
        "  contagem = contagem + 1;\n",
        "print('Media é R$', media);\n",
        "\n",
        "print('for');\n",
        "print('while')\n",
        "contagem = 1;\n",
        "soma = 0;\n",
        "for contagem in range (4) :\n",
        "  preco = float(input('Insira o valor do produto '));\n",
        "  soma = soma + preco;\n",
        "  media = soma / 4;\n",
        "  contagem = contagem + 1;\n",
        "print('Media é R$', media);"
      ],
      "execution_count": null,
      "outputs": [
        {
          "output_type": "stream",
          "name": "stdout",
          "text": [
            "while\n",
            "Insira o valor do produto 2.00\n",
            "Insira o valor do produto 4.00\n",
            "Insira o valor do produto 8.00\n",
            "Insira o valor do produto 14.00\n",
            "Media é R$ 7.0\n",
            "for\n",
            "while\n",
            "Insira o valor do produto 2.00\n",
            "Insira o valor do produto 4.00\n",
            "Insira o valor do produto 8.00\n",
            "Insira o valor do produto 14.00\n",
            "Media é R$ 7.0\n"
          ]
        }
      ]
    },
    {
      "cell_type": "markdown",
      "metadata": {
        "id": "rf_lUW8J-HbR"
      },
      "source": [
        "###10. Faça um algoritmo que calcule e informe a média de idades de 5 alunos. Pode implementar com o comando while ou for."
      ]
    },
    {
      "cell_type": "code",
      "metadata": {
        "id": "1jGiDIq--XfE"
      },
      "source": [
        "print('while')\n",
        "contagem = 1;\n",
        "soma = 0;\n",
        "while contagem <= 5 :\n",
        "  idade = float(input('Insira a idade '));\n",
        "  soma = soma + idade;\n",
        "  media = soma / 5;\n",
        "  contagem = contagem + 1;\n",
        "print('Idade média é ', media);\n",
        "\n",
        "print('for');\n",
        "print('while')\n",
        "contagem = 1;\n",
        "soma = 0;\n",
        "for contagem in range (5) :\n",
        "  idade = float(input('Insira a idade '));\n",
        "  soma = soma + idade;\n",
        "  media = soma / 5;\n",
        "  contagem = contagem + 1;\n",
        "print('Idade média é ', media);"
      ],
      "execution_count": null,
      "outputs": []
    },
    {
      "cell_type": "markdown",
      "metadata": {
        "id": "aI4IjOYw-XwG"
      },
      "source": [
        "###12. Faça um algoritmo que leia o preço de 20 TV, determine e apresente a média dos preços que possuem valor maior que R$ 1000. Pode implementar com o comando while ou for."
      ]
    },
    {
      "cell_type": "code",
      "metadata": {
        "id": "QRC-wB1g-ceV",
        "colab": {
          "base_uri": "https://localhost:8080/"
        },
        "outputId": "eddf846e-a8c7-4c5a-c5dc-91cf946febf6"
      },
      "source": [
        "print('while');\n",
        "contagem = 1;\n",
        "soma = 0;\n",
        "tv = 0;\n",
        "while contagem <= 20:\n",
        "  preco = float(input('Insira o valor da TV '));\n",
        "  if preco > 1000:\n",
        "    soma = soma + preco;\n",
        "    tv = tv + 1;\n",
        "    media = soma / tv;\n",
        "  contagem = contagem + 1;\n",
        "print('Preço médio de R$', media);\n",
        "print('for');\n",
        "contagem = 1;\n",
        "soma = 0;\n",
        "tv = 0;\n",
        "for contagem in range (20):\n",
        "  preco = float(input('Insira o valor da TV '));\n",
        "  if preco > 1000:\n",
        "    soma = soma + preco;\n",
        "    tv = tv + 1;\n",
        "    media = soma / tv;\n",
        "  contagem = contagem + 1;\n",
        "print('Preço médio de R$', media);\n",
        "  "
      ],
      "execution_count": null,
      "outputs": [
        {
          "output_type": "stream",
          "name": "stdout",
          "text": [
            "while\n",
            "Insira o valor da TV1001\n",
            "Insira o valor da TV1001\n",
            "Insira o valor da TV1001\n",
            "Insira o valor da TV10001\n",
            "Insira o valor da TV1001\n",
            "Insira o valor da TV1001\n",
            "Insira o valor da TV1001\n",
            "Insira o valor da TV1001\n",
            "Insira o valor da TV1001\n",
            "Insira o valor da TV1001\n",
            "Insira o valor da TV1000\n",
            "Insira o valor da TV1\n",
            "Insira o valor da TV2\n",
            "Insira o valor da TV3\n",
            "Insira o valor da TV4\n",
            "Insira o valor da TV5\n",
            "Insira o valor da TV6\n",
            "Insira o valor da TV7\n",
            "Insira o valor da TV8\n",
            "Insira o valor da TV9\n",
            "Preço médio de R$ 1901.0\n"
          ]
        }
      ]
    }
  ]
}