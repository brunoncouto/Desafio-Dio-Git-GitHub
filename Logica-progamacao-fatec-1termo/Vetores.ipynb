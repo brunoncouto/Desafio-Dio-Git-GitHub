{
  "nbformat": 4,
  "nbformat_minor": 0,
  "metadata": {
    "colab": {
      "name": "Bruno Couto - 212_Vetor_n.ipynb",
      "provenance": [],
      "collapsed_sections": []
    },
    "kernelspec": {
      "name": "python3",
      "display_name": "Python 3"
    }
  },
  "cells": [
    {
      "cell_type": "markdown",
      "metadata": {
        "id": "BTk5UJlvXLuB"
      },
      "source": [
        "#**EXERCÍCIOS SOBRE VETOR**"
      ]
    },
    {
      "cell_type": "markdown",
      "metadata": {
        "id": "YOspAvb8YpqR"
      },
      "source": [
        "### 1. Faça um programa que calcule e apresente a média de idades de uma sala de 35 alunos.​​"
      ]
    },
    {
      "cell_type": "code",
      "metadata": {
        "id": "PR5Z9QlTXHEO",
        "colab": {
          "base_uri": "https://localhost:8080/"
        },
        "outputId": "1bfc3bb6-82ec-4d3a-fa7a-de285727461e"
      },
      "source": [
        "print('Exemplo de leitura de vetor com o for')\n",
        "vetor_idade = [] # declarando a variável como vetor vazio - fora da estrutura de repetição\n",
        "soma_idade = 0\n",
        "for i in range(5):\n",
        "    vetor_idade.append(int(input('Informe a idade ')))\n",
        "    soma_idade = soma_idade + vetor_idade[i]\n",
        "\n",
        "media = soma_idade / len(vetor_idade)\n",
        "print('valor da variável i:',i,'  Quantidade de elementos:',len(vetor_idade),'   Média de idades:',media)\n",
        "\n",
        "for i in range(len(vetor_idade)):\n",
        "    print(vetor_idade[i], end='  ')\n",
        "\n",
        "print('\\n',vetor_idade)\n",
        "\n",
        "print('\\n\\nExemplo de leitura de vetor com o while')\n",
        "vetor_idade = [] # declarando a variável como vetor vazio - fora da estrutura de repetição\n",
        "soma_idade = 0\n",
        "indice = 0\n",
        "while indice < 5:\n",
        "    vetor_idade.append(int(input('Informe a idade ')))\n",
        "    soma_idade = soma_idade + vetor_idade[indice]\n",
        "    indice = indice + 1\n",
        "\n",
        "media = soma_idade / len(vetor_idade)\n",
        "print('valor da variável i:',indice,'  Quantidade de elementos:',len(vetor_idade),'   Média de idades:',media)\n",
        "\n",
        "indice = 0\n",
        "while indice < 5:\n",
        "    print(vetor_idade[indice], end='  ')\n",
        "    indice = indice + 1"
      ],
      "execution_count": null,
      "outputs": [
        {
          "output_type": "stream",
          "text": [
            "Exemplo de leitura de vetor com o for\n",
            "Informe a idade 10\n",
            "Informe a idade 20\n",
            "Informe a idade 30\n",
            "Informe a idade 90\n",
            "Informe a idade 88\n",
            "valor da variável i: 4   Quantidade de elementos: 5    Média de idades: 47.6\n",
            "10  20  30  90  88  \n",
            " [10, 20, 30, 90, 88]\n",
            "Exemplo de leitura de vetor com o while\n",
            "Informe a idade 10\n",
            "Informe a idade 20\n",
            "Informe a idade 30\n",
            "Informe a idade 90\n",
            "Informe a idade 88\n",
            "valor da variável i: 5   Quantidade de elementos: 5    Média de idades: 47.6\n",
            "10  20  30  90  88  "
          ],
          "name": "stdout"
        }
      ]
    },
    {
      "cell_type": "markdown",
      "metadata": {
        "id": "XtTydU3HZNHi"
      },
      "source": [
        "## 2. Faça um programa que calcule e apresente a média de alturas de uma sala de 35 alunos. Informe também quantos alunos **e** quais (índice/posição) são os que possuem idade superior a 25 anos.​ Use dois vetores, um para altura e outro para idade. Não use nenhuma função pronta da linguagem Python.\n"
      ]
    },
    {
      "cell_type": "code",
      "metadata": {
        "id": "n-bT5WDZZQQ0"
      },
      "source": [
        "altura = []\n",
        "idade = []\n",
        "soma_altura = 0\n",
        "idade25 = 0\n",
        "for i in range(35):\n",
        "  altura.append(float(input('Informe a altura: ')))\n",
        "  idade.append(int(input('Informe a idade: ')))\n",
        "  soma_altura = soma_altura + altura[i]\n",
        "media_altura = soma_altura / len(altura)\n",
        "print('A altura média da sala é de ', media_altura, 'metros.')\n",
        "for i in range(35):\n",
        "  if idade[i] >= 25 :\n",
        "    idade25 += 1\n",
        "    print('O aluno na posição nº', i, 'tem', idade[i], 'anos')\n",
        "print('O total de alunos com mais de vinte e cinco anos é de: ', idade25, ' alunos')\n",
        " \n",
        "\n"
      ],
      "execution_count": null,
      "outputs": []
    },
    {
      "cell_type": "markdown",
      "metadata": {
        "id": "3x_WkNYTZQeD"
      },
      "source": [
        "### 3. Faça um programa que carregue um vetor de dez elementos que contenha o nome de pessoas e outro que contenha o peso, encontre qual a pessoa mais gorda e mais magra e apresente o nome o peso das mesmas.​ Use dois vetores, um para peso e outro para nome. Não use nenhuma função pronta da linguagem Python."
      ]
    },
    {
      "cell_type": "code",
      "metadata": {
        "id": "7VsianjuZMrf",
        "colab": {
          "base_uri": "https://localhost:8080/"
        },
        "outputId": "50625ef9-8eb6-4c7b-aeff-4cb39d69e23c"
      },
      "source": [
        "peso = []\n",
        "nome = []\n",
        "for i in range (5):                         #índice 0    1     2     3\n",
        "  peso.append(float(input('Entre com o peso: '))) # 70   75    40    40\n",
        "  nome.append(input('Entre com o nome: '))        # Lia  Ana   Leo   Mel\n",
        "  if i == 0:\n",
        "      maior = peso[i]\n",
        "      menor = peso[i]\n",
        "      nomemaior = nome[i]\n",
        "      nomemenor = nome[i]\n",
        "  if peso[i] > maior:\n",
        "      maior = peso[i]\n",
        "      nomemaior = nome[i]\n",
        "  elif peso[i] < menor:\n",
        "      menor = peso[i]\n",
        "      nomemenor = nome[i]\n",
        "print('A pessoa mais pesada é ', nomemaior, ' com ', maior,' kgs')\n",
        "print('A pessoa menos pesada é ', nomemenor, ' com ', menor,' kgs')"
      ],
      "execution_count": null,
      "outputs": [
        {
          "output_type": "stream",
          "name": "stdout",
          "text": [
            "Entre com o peso: 70\n",
            "Entre com o nome: Lia\n",
            "Entre com o peso: 75\n",
            "Entre com o nome: Ana\n",
            "Entre com o peso: 40\n",
            "Entre com o nome: Leo\n",
            "Entre com o peso: 40\n",
            "Entre com o nome: Mel\n",
            "Entre com o peso: 73\n",
            "Entre com o nome: Clara\n",
            "A pessoa mais pesada é  Ana  com  75.0  kgs\n",
            "A pessoa menos pesada é  Leo  com  40.0  kgs\n"
          ]
        }
      ]
    },
    {
      "cell_type": "markdown",
      "metadata": {
        "id": "xSpiII3mZdQV"
      },
      "source": [
        "### 4. Faça um programa que carregue um vetor com a média de dez alunos, calcule e mostre a MÉDIA DA SALA e quantos alunos estão acima e abaixo da média da sala. Não use nenhuma função pronta da linguagem Python."
      ]
    },
    {
      "cell_type": "code",
      "metadata": {
        "id": "iWBTxDXvZUPP"
      },
      "source": [
        "media_aluno = []\n",
        "media_sala = 0\n",
        "acima = 0\n",
        "abaixo = 0\n",
        "for i in range(10):\n",
        "  media_aluno.append(float(input('Insira a média')))\n",
        "  media_sala = media_sala + media_aluno[i]\n",
        "media_geral = media_sala / len(media_aluno)\n",
        "print('A média da sala é ', media_geral)\n",
        "for i in range(10):\n",
        "  if media_aluno[i] > media_geral:\n",
        "    acima += 1\n",
        "  elif media_aluno[i] < media_geral:\n",
        "    abaixo += 1 \n",
        "print(acima, 'alunos estão acima da média e ', abaixo, 'alunos estão abaixo da média')\n",
        "    "
      ],
      "execution_count": null,
      "outputs": []
    },
    {
      "cell_type": "markdown",
      "metadata": {
        "id": "frrtYwMAZUcL"
      },
      "source": [
        "5. Faça um programa que carregue um vetor de oito elementos numéricos inteiros, calcule e mostre os números pares e suas respectivas índices/posições. Não use nenhuma função pronta da linguagem Python.\n"
      ]
    },
    {
      "cell_type": "code",
      "metadata": {
        "id": "7S8zpor8Z5Hb",
        "colab": {
          "base_uri": "https://localhost:8080/"
        },
        "outputId": "474d47b7-ef8d-496b-bfc7-ddb9dd8e8129"
      },
      "source": [
        "numeral = []\n",
        "for i in range(8):\n",
        "  numeral.append(int(input('Entre com um número')))\n",
        "  if (numeral[i] % 2 == 0):\n",
        "    print('O numéro ', numeral[i], 'é um número par e está na posição ', i)"
      ],
      "execution_count": null,
      "outputs": [
        {
          "name": "stdout",
          "output_type": "stream",
          "text": [
            "Entre com um número4\n",
            "O numéro  4 é um número par e está na posição  0\n",
            "Entre com um número9\n",
            "Entre com um número7\n",
            "Entre com um número8\n",
            "O numéro  8 é um número par e está na posição  3\n",
            "Entre com um número20\n",
            "O numéro  20 é um número par e está na posição  4\n",
            "Entre com um número25\n",
            "Entre com um número32\n",
            "O numéro  32 é um número par e está na posição  6\n",
            "Entre com um número67\n"
          ]
        }
      ]
    },
    {
      "cell_type": "markdown",
      "metadata": {
        "id": "cml17HAsZ5Wf"
      },
      "source": [
        "### 6. Faça um programa que carregue um vetor com dez nomes e faça uma verificação se um determinado nome esta nesse vetor. Não use nenhuma função pronta da linguagem Python.\n"
      ]
    },
    {
      "cell_type": "code",
      "metadata": {
        "id": "4R-FGZy4aHNx",
        "colab": {
          "base_uri": "https://localhost:8080/"
        },
        "outputId": "4615d7a9-3596-4df3-de41-409c601cdbff"
      },
      "source": [
        "nomes = []\n",
        "for i in range (10):\n",
        "  nomes.append(input('Informe um nome '))\n",
        "test = input('Entre com o nome: ')\n",
        "if test in nomes:\n",
        "  print('Acertou')\n",
        "else:\n",
        "  print('Errou')\n"
      ],
      "execution_count": null,
      "outputs": [
        {
          "output_type": "stream",
          "name": "stdout",
          "text": [
            "Informe um nome Lia\n",
            "Informe um nome Bia\n",
            "Informe um nome Bruna\n",
            "Informe um nome Cris\n",
            "Informe um nome Lua\n",
            "Informe um nome Nick\n",
            "Informe um nome Paul\n",
            "Informe um nome Steve\n",
            "Informe um nome Tony\n",
            "Informe um nome Gary\n",
            "Entre com o nome: Paul\n",
            "Acertou\n"
          ]
        }
      ]
    },
    {
      "cell_type": "markdown",
      "metadata": {
        "id": "0BYcEcgYaHbl"
      },
      "source": [
        "### 7. Faça um algoritmo que calcule e apresente a média de alturas superior a 1,80 de 10 alunos. Informe também quantos e quais (índice/posição) são os alunos. Não use nenhuma função pronta da linguagem Python.\n"
      ]
    },
    {
      "cell_type": "code",
      "metadata": {
        "id": "wbXDmo6daU5n"
      },
      "source": [
        "altura = []\n",
        "soma = 0\n",
        "alt = 0\n",
        "for i in range(10):\n",
        "  altura.append(float(input('Entre com a altura: ')))\n",
        "  if altura[i] > 1.80:\n",
        "    soma = soma+1\n",
        "    alt = alt + altura[i]\n",
        "media = alt / soma \n",
        "print(f'A média da altura acima de 1.80m é {media:.2f} metros.')\n",
        "for i in range(10):\n",
        "  if altura[i] > 1.80:\n",
        "    print('O aluno de nº', i, 'tem altura maior que 1.80m')\n",
        "print('São ', soma, ' alunos com altura superior a 1.80m')"
      ],
      "execution_count": null,
      "outputs": []
    },
    {
      "cell_type": "markdown",
      "metadata": {
        "id": "mFaqmOmuaVN2"
      },
      "source": [
        "### 8. Criar um algoritmo que a partir de um vetor de 10 elementos inteiros, crie outros dois vetores que receberão os elementos positivos e negativos e ao final apresente-os. Não use nenhuma função pronta da linguagem Python.\n"
      ]
    },
    {
      "cell_type": "code",
      "metadata": {
        "id": "A6hJ8MIdahuM",
        "colab": {
          "base_uri": "https://localhost:8080/"
        },
        "outputId": "0916feea-3eeb-4c2f-a4ec-e6aff8b35c24"
      },
      "source": [
        "numero = []\n",
        "positivo = []\n",
        "negativo = []\n",
        "for i in range (5):\n",
        "  numero.append(int(input('Entre com um número: ')))\n",
        "  if numero[i] >= 0:\n",
        "    positivo.append(numero[i])\n",
        "  else:\n",
        "    negativo.append(numero[i])\n",
        "\n",
        "print(positivo, negativo)\n",
        "    "
      ],
      "execution_count": null,
      "outputs": [
        {
          "output_type": "stream",
          "name": "stdout",
          "text": [
            "Entre com um número: 9\n",
            "Entre com um número: 5\n",
            "Entre com um número: -2\n",
            "Entre com um número: -7\n",
            "Entre com um número: -6\n",
            "[9, 5] [-2, -7, -6]\n"
          ]
        }
      ]
    },
    {
      "cell_type": "markdown",
      "metadata": {
        "id": "K5IMhYTHaiEl"
      },
      "source": [
        "### 9. Criar um algoritmo que leia dados para um vetor de 100 elementos inteiros, imprimir o maior, o menor, o percentual de números pares e a média dos elementos do vetor. Obs.: percentual = quantidade contada * 100 / quantidade total. Não use nenhuma função pronta da linguagem Python.\n"
      ]
    },
    {
      "cell_type": "code",
      "metadata": {
        "id": "X6krLAFKaumK"
      },
      "source": [
        "numero = []\n",
        "somatoria = 0\n",
        "pares = 0\n",
        "for i in range(100):\n",
        "  numero.append(int(input('Insira um número: ')))\n",
        "  if i == 0:\n",
        "    maior = numero[i]\n",
        "    menor = numero[i]\n",
        "  if numero[i] < menor:\n",
        "    menor = numero[i]\n",
        "  elif numero[i] > maior:\n",
        "    maior = numero[i]\n",
        "  somatoria = somatoria + numero[i]\n",
        "  if numero[i] % 2 == 0:\n",
        "    pares = pares + 1\n",
        "media = somatoria / len(numero)\n",
        "print('A média dos números é ', media)\n",
        "percentual = pares * 100 / len(numero)\n",
        "print('A porcentagem de número pares é ', percentual,'%')"
      ],
      "execution_count": null,
      "outputs": []
    },
    {
      "cell_type": "markdown",
      "metadata": {
        "id": "X6C3DbCGFR71"
      },
      "source": [
        "### 10. Faça um programa que:\n",
        "\n",
        "* preencha um vetor com seis elementos numéricos inteiros.\n",
        "* não use nenhuma função pronta da linguagem Python. \n",
        "\n",
        "**Calcule e mostre:**\n",
        "\n",
        "* todos os números pares;\n",
        "* a quantidade de números pares;\n",
        "* todos os números ímpares;\n",
        "* a quantidade de números ímpares"
      ]
    },
    {
      "cell_type": "code",
      "metadata": {
        "id": "0OjTx-RoFZUT"
      },
      "source": [
        "numero = []\n",
        "pares = []\n",
        "impares = []\n",
        "contpar = 0\n",
        "contimp = 0\n",
        "for i in range (6):\n",
        "  numero.append(int(input('Entre com o número: ')))\n",
        "  if numero[i] % 2 == 0:\n",
        "    pares.append(numero[i])\n",
        "    contpar += 1\n",
        "  else:\n",
        "    impares.append(numero[i])\n",
        "    contimp += 1\n",
        "print('A quantidade de números pares é ', contpar, ' presentes no vetor:', pares)\n",
        "print('A quantidade de números impares é ', contimp, ' presentes no vetor:', impares)"
      ],
      "execution_count": null,
      "outputs": []
    },
    {
      "cell_type": "markdown",
      "metadata": {
        "id": "qTCb3GyDFzlm"
      },
      "source": [
        "### 11. Faça um programa que:\n",
        "\n",
        "* preencha um vetor com sete números inteiros\n",
        "* não use nenhuma função pronta da linguagem Python.\n",
        "\n",
        "**Calcule e mostre:**\n",
        "\n",
        "* os números múltiplos de 2;\n",
        "* os números múltiplos de 3;\n",
        "* os números múltiplos de 2 e de 3."
      ]
    },
    {
      "cell_type": "code",
      "metadata": {
        "id": "OPX_rge2F3kR",
        "colab": {
          "base_uri": "https://localhost:8080/"
        },
        "outputId": "09b14ecd-42ad-47e0-c979-7db0e7754931"
      },
      "source": [
        "numero = []\n",
        "dobro = []\n",
        "triplo = []\n",
        "mistoquente = []\n",
        "for i in range (7):\n",
        "  numero.append(int(input('Entra com um número: ')))\n",
        "  if numero[i] % 2 == 0:\n",
        "    dobro.append(numero[i])\n",
        "  elif numero[i] % 3 == 0:\n",
        "    triplo.append(numero[i])\n",
        "  if numero[i] % 2 == 0 and numero[i] % 3 == 0:\n",
        "    mistoquente.append(numero[i])\n",
        "    \n",
        "print('São múltiplos de 2: ', dobro)\n",
        "print('São múltiplos de 3: ', triplo)\n",
        "print('São múltiplos de 2 e 3: ', mistoquente)"
      ],
      "execution_count": null,
      "outputs": [
        {
          "output_type": "stream",
          "name": "stdout",
          "text": [
            "Entra com um número: 2\n",
            "Entra com um número: 3\n",
            "Entra com um número: 6\n",
            "Entra com um número: 8\n",
            "Entra com um número: 9\n",
            "Entra com um número: 12\n",
            "Entra com um número: 18\n",
            "São múltiplos de 2:  [2, 6, 8, 12, 18]\n",
            "São múltiplos de 3:  [3, 9]\n",
            "São múltiplos de 2 e 3:  [6, 12, 18]\n"
          ]
        }
      ]
    },
    {
      "cell_type": "markdown",
      "metadata": {
        "id": "sf4dSTh-F3wV"
      },
      "source": [
        "### 12. Faça um programa que:\n",
        "\n",
        "* preencha um vetor com quinze elementos inteiros\n",
        "* verifique a existência de elementos iguais a 30, mostrando os índices/posições em que apareceram."
      ]
    },
    {
      "cell_type": "code",
      "metadata": {
        "id": "pV6slXVYF8Fm"
      },
      "source": [
        "numeros = []\n",
        "i = 1\n",
        "for i in range(16):\n",
        "  numeros.append(int(input('Insira um número')))\n",
        "  if numeros[i] == 30:\n",
        "    print('O', i, 'º número é igual a 30.')"
      ],
      "execution_count": null,
      "outputs": []
    },
    {
      "cell_type": "markdown",
      "metadata": {
        "id": "9UnrFcvfF8VU"
      },
      "source": [
        "### 13. Faça um programa que:\n",
        "\n",
        "* preencha um vetor com dez números reais\n",
        "* não use nenhuma função pronta da linguagem Python.\n",
        "\n",
        "**Calcule e mostre:**\n",
        "\n",
        "* a quantidade de números negativos\n",
        "* a soma dos números positivos desse *vetor*\n",
        "* não use nenhuma função pronta da linguagem Python"
      ]
    },
    {
      "cell_type": "code",
      "metadata": {
        "id": "x4hGToRMM6q8"
      },
      "source": [
        "numeros = []\n",
        "somapos = 0\n",
        "qtd = 0\n",
        "for i in range (10):\n",
        "  numeros.append(int(input('Entra com um número: ')))\n",
        "  if numeros[i] >= 0:\n",
        "    somapos = somapos + numeros[i]\n",
        "  else:\n",
        "    qtd += 1\n",
        "print('A quantidade de números negativos é : ', qtd)\n",
        "print('A soma dos números positivos é: ', somapos)"
      ],
      "execution_count": null,
      "outputs": []
    },
    {
      "cell_type": "markdown",
      "metadata": {
        "id": "h08bQeSEM62n"
      },
      "source": [
        "### 14. Faça um programa que:\n",
        "\n",
        "* receba dez números inteiros e armazene-os em um vetor\n",
        "* classifique os números em dois vetores, um com números pares e o outra com os ímpares\n",
        "* não use nenhuma função pronta da linguagem Python"
      ]
    },
    {
      "cell_type": "code",
      "metadata": {
        "id": "5Ch4maMCM-hg"
      },
      "source": [
        "numeracao = []\n",
        "pares = []\n",
        "impares = []\n",
        "for i in range (10):\n",
        "  numeracao.append(int(input('Entre com um número: ')))\n",
        "  if numeracao[i] % 2 == 0:\n",
        "    pares.append(numeracao[i])\n",
        "  else:\n",
        "    impares.append(numeracao[i])\n",
        "print('Números pares: ', pares)\n",
        "print('Números impares: ', impares)"
      ],
      "execution_count": null,
      "outputs": []
    },
    {
      "cell_type": "markdown",
      "metadata": {
        "id": "Lzqh-l1JNNTr"
      },
      "source": [
        "### 15. Faça um programa que:\n",
        "\n",
        "* preencha um vetor com quinze números\n",
        "\n",
        "**Determine e mostre:**\n",
        "\n",
        "* o maior número e a posição por ele ocupada no vetor\n",
        "* o menor número e a posição por ele ocupada no vetor\n",
        "* Não use nenhuma função pronta da linguagem Python"
      ]
    },
    {
      "cell_type": "code",
      "metadata": {
        "id": "J-jy56awNIb4"
      },
      "source": [
        "numero = []\n",
        "for i in range (15):\n",
        "  numero.append(int(input('Insira um número: ')))\n",
        "  if i == 0:\n",
        "    maior = numero[i]\n",
        "    menor = numero[i]\n",
        "  if numero[i] < menor:\n",
        "    menor = numero[i]\n",
        "    posicao = i\n",
        "  elif numero[i] > maior:\n",
        "    maior = numero[i]\n",
        "    lugar = i\n",
        "print('O maior número é ',maior,' e ocupa a posição de nº ', lugar)\n",
        "print('O menor número é ',menor,' e ocupa a posição de nº ', posicao)"
      ],
      "execution_count": null,
      "outputs": []
    },
    {
      "cell_type": "markdown",
      "metadata": {
        "id": "HmWgU1x2FaAP"
      },
      "source": [
        "#**EXERCÍCIOS - EXTRA**"
      ]
    },
    {
      "cell_type": "markdown",
      "metadata": {
        "id": "CwrnVAqjNIqA"
      },
      "source": [
        "### 16. Faça um programa que:\n",
        "\n",
        "* preencha dois vetores com de dez numeros cada\n",
        "* preencha um terceiro vetor com os números dos dois vetores anteriores ordenados em ordem crescente\n"
      ]
    },
    {
      "cell_type": "code",
      "metadata": {
        "id": "JG4VQSZ0NNGP"
      },
      "source": [
        "# Digite seu código aqui."
      ],
      "execution_count": null,
      "outputs": []
    },
    {
      "cell_type": "markdown",
      "metadata": {
        "id": "HkiTq5lrNSnY"
      },
      "source": [
        "### 17. Faça um programa que:\n",
        "\n",
        "* carregue dois vetores com 10 números cada\n",
        "* faça a multiplicação dos números na mesma posição\n",
        "* o resultado deverá ser adicionada em um terceiro vetor\n",
        "* não use nenhuma função pronta da linguagem Python"
      ]
    },
    {
      "cell_type": "code",
      "metadata": {
        "id": "F1bta73yNXRe"
      },
      "source": [
        "# Digite seu código aqui.\n",
        "a = [ 8, 6, 3, 5]\n",
        "b = [ 3, 2, 8, 1]\n",
        "c = [8*3, 6*2,]"
      ],
      "execution_count": null,
      "outputs": []
    },
    {
      "cell_type": "markdown",
      "metadata": {
        "id": "ZAel4hPSNXdC"
      },
      "source": [
        "### 18. Faça um programa que:\n",
        "\n",
        "* leia um vetor de 10 números inteiros\n",
        "* exiba na tela os números positivos e seus respectivos índices.\n",
        "* não use nenhuma função pronta da linguagem Python"
      ]
    },
    {
      "cell_type": "code",
      "metadata": {
        "id": "Wn-sojioNb99"
      },
      "source": [
        "# Digite seu código aqui."
      ],
      "execution_count": null,
      "outputs": []
    },
    {
      "cell_type": "markdown",
      "metadata": {
        "id": "IErlUNBBNcKh"
      },
      "source": [
        "### 19. Faça um programa que:\n",
        "\n",
        "* insira dez números inteiros em um vetor\n",
        "* crie um segundo vetor, substituindo os números multiplos de 3 por \"999\"\"\n",
        "* exiba os dois vetores\n",
        "* não use nenhuma função pronta da linguagem Python"
      ]
    },
    {
      "cell_type": "code",
      "metadata": {
        "id": "ABkUHan9NiRV"
      },
      "source": [
        "# Digite seu código aqui."
      ],
      "execution_count": null,
      "outputs": []
    },
    {
      "cell_type": "markdown",
      "metadata": {
        "id": "ZtxMl1r8NnV7"
      },
      "source": [
        "### 21. Faça um programa que:\n",
        "\n",
        "* leia dois vetores (A e B) com cinco posições para números inteiros.\n",
        "* o programa deve, então, subtrair o primeiro elemento de A do último de B, armazenando o resultado num terceiro vetor, subtrair o segundo elemento de A do penúltimo de B, armazenando o resultado num terceiro vetor e assim por diante. \n",
        "* ao final, mostre o resultado do terceiro vetor\n",
        "* não use nenhuma função pronta da linguagem Python"
      ]
    },
    {
      "cell_type": "code",
      "metadata": {
        "id": "TPVdojenNq37"
      },
      "source": [
        "# Digite seu código aqui."
      ],
      "execution_count": null,
      "outputs": []
    },
    {
      "cell_type": "markdown",
      "metadata": {
        "id": "ASOIKJD7M-vh"
      },
      "source": [
        "###22. Faça um programa que:\n",
        "\n",
        "* preencha um vetor de cinco números e mostre a saída a seguir:\n",
        "* imprima a seguinte saída: n1 + n2 + n3 + n4 + n5 = soma_dos_numeros, exemplo 8 + 2 + 1 + 3 + 0 = 14\n",
        "* não use nenhuma função pronta da linguagem Python\n"
      ]
    },
    {
      "cell_type": "code",
      "metadata": {
        "id": "hyDhAbwPNuhK"
      },
      "source": [
        "# Digite seu código aqui."
      ],
      "execution_count": null,
      "outputs": []
    },
    {
      "cell_type": "markdown",
      "metadata": {
        "id": "D6GVJmfhNusA"
      },
      "source": [
        "### 23. Faça um programa que:\n",
        "* leia um vetor com quinze posições para números inteiros.\n",
        "* depois da leitura, divida todos os seus elementos pelo maior valor do vetor.\n",
        "* Mostre o vetor após os cálculos.\n",
        "* não use nenhuma função pronta da linguagem Python"
      ]
    },
    {
      "cell_type": "code",
      "metadata": {
        "id": "zto4otPkgPRV"
      },
      "source": [
        "# Digite seu código aqui."
      ],
      "execution_count": null,
      "outputs": []
    },
    {
      "cell_type": "markdown",
      "metadata": {
        "id": "Hwgks80Tawon"
      },
      "source": [
        "### 24. Um vetor é palíndromo se ele não se alterar quando o mesmo for invertido. Escreva um programa que verifique se um vetor é palíndromo, fazendo comparação de índice/posição por índice/posição do vetor original (vo) com o vetor invertido (vi). Não use nenhuma função pronta da linguagem Python. A tamanho do vetor pode ser da sua escolha.\n",
        "Exemplo:\n",
        "vetor original    vo = {1, 3, 5, 2, 2, 5, 3, 1}  \n",
        "vetor invertido é vi = {1, 3, 5, 2, 2, 5, 3, 1}\n",
        "O vetor invertido **é palíndromo**, pois ele invertido é igual ao original\n",
        "\n",
        "vetor original    vo = {9, 7, 5, 2, 4, 5, 3, 6}  \n",
        "vetor invertido é vi = {6, 3, 5, 4, 2, 5, 7, 9}\n",
        "O vetor invertido **não é palíndromo**, pois ele invertido é igual ao original\n",
        "\n"
      ]
    },
    {
      "cell_type": "code",
      "metadata": {
        "id": "ua4_aIrbN0rO"
      },
      "source": [
        "import pandas as pd\n",
        "from selenium import webdriver\n",
        "from selenium.webdriver.common.keys import Keys\n",
        "import time\n",
        "import urllib\n",
        "\n",
        "contatos_df = pd.read_excel(\"C:\\\\Users\\\\Valor\\\\Downloads\\\\lista.xlsx\")\n",
        "\n",
        "navegador = webdriver.Chrome()\n",
        "navegador.get(\"https://web.whatsapp.com/\")\n",
        "while len(navegador.find_elements_by_id(\"side\")) > 1:\n",
        "    time.sleep(1)\n",
        "#Whatsapp aberto e logado\n",
        "for i, mensagem in enumerate(contatos_df['Mensagem']):\n",
        "    pessoa = contatos_df.loc[i, \"Pessoa\"]\n",
        "    numero = contatos_df.loc[i, \"Número\"]\n",
        "    texto = urllib.parse.quote(f\"Oi {pessoa}! {mensagem}\")\n",
        "    link = f\"https://web.whatsapp.com/send?phone={numero}&text={texto}\"\n",
        "    navegador.get(link)\n",
        "    while len(navegador.find_elements_by_id(\"main\")) < 1:\n",
        "        time.sleep(1)\n",
        "    navegador.find_element_by_xpath('//*[@id=\"main\"]/footer/div[1]/div/div/div[2]/div[1]/div/div[2]').send_keys(Keys.ENTER)\n",
        "    time.sleep(10)"
      ],
      "execution_count": null,
      "outputs": []
    }
  ]
}