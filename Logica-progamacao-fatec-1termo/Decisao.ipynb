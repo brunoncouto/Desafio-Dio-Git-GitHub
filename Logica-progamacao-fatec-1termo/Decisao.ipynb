{
  "nbformat": 4,
  "nbformat_minor": 0,
  "metadata": {
    "colab": {
      "name": "Bruno Couto - 212_Est_DecN.ipynb",
      "provenance": [],
      "collapsed_sections": []
    },
    "kernelspec": {
      "name": "python3",
      "display_name": "Python 3"
    }
  },
  "cells": [
    {
      "cell_type": "markdown",
      "metadata": {
        "id": "I3ayCEJnHhtv"
      },
      "source": [
        "#Lista de exercícios de ESTRUTURA de DECISÃO"
      ]
    },
    {
      "cell_type": "markdown",
      "metadata": {
        "id": "E64RcqHIMXAS"
      },
      "source": [
        "### 1.a) Faça um algoritmo que calcule e exiba o salário reajustado de um funcionário de acordo com a seguinte regra: Salário até 500, reajuste de 50%."
      ]
    },
    {
      "cell_type": "code",
      "metadata": {
        "id": "iepDUOyzHFPt",
        "colab": {
          "base_uri": "https://localhost:8080/"
        },
        "outputId": "df8283bc-2aac-4bc8-945e-8009eba4540f"
      },
      "source": [
        "salario = float(input('Informe o salário: '))\n",
        "if salario <= 500:\n",
        "    novo = salario + (salario * 50 / 100)\n",
        "    print('O salário reajustado é',novo)"
      ],
      "execution_count": null,
      "outputs": [
        {
          "output_type": "stream",
          "text": [
            "Informe o salário: 1000\n"
          ],
          "name": "stdout"
        }
      ]
    },
    {
      "cell_type": "markdown",
      "metadata": {
        "id": "OYoL34dGG0XC"
      },
      "source": [
        "###1.b) Faça um algoritmo que calcule e exiba o salário reajustado de um funcionário de acordo com a seguinte regra: Salário até 500, reajuste de 50%; Salários maiores que 500, reajuste de 30%."
      ]
    },
    {
      "cell_type": "code",
      "metadata": {
        "id": "uLE2w6-aMadI",
        "colab": {
          "base_uri": "https://localhost:8080/"
        },
        "outputId": "0c486306-c94e-4ea9-a886-540f8c45390f"
      },
      "source": [
        "salario = float(input('Informe o salário: '))\n",
        "if salario <= 500:\n",
        "    novo = salario + (salario * 50 / 100)\n",
        "    print('O salário reajustado é',novo)\n",
        "else:\n",
        "    novo = salario + (salario * 30 / 100)\n",
        "    print(f'O salário reajustado é R$ {novo:.2f}')"
      ],
      "execution_count": null,
      "outputs": [
        {
          "output_type": "stream",
          "text": [
            "Informe o salário: 1000\n",
            "O salário reajustado é R$ 1300.00\n"
          ],
          "name": "stdout"
        }
      ]
    },
    {
      "cell_type": "markdown",
      "metadata": {
        "id": "inPGbmBaMe3R"
      },
      "source": [
        "###2. Faça um algoritmo que leia o nome e a idade de uma pessoas, verifique se a idade de uma pessoa é menor ou maior de idade. Considera-se maior de idade uma pessoa com 18 anos ou mais. Como saída o algoritmo deve informar o nome e a idade da pessoa e depois uma mensagem se ela é ou não maior de idade.\n"
      ]
    },
    {
      "cell_type": "code",
      "metadata": {
        "id": "XxrUc9yWND8a",
        "colab": {
          "base_uri": "https://localhost:8080/"
        },
        "outputId": "2325e563-8682-42d9-fffc-3173dc997dfc"
      },
      "source": [
        "nome = input('Nome: ')\n",
        "idade = int(input('Idade: '))\n",
        "if idade >= 18:\n",
        "  print(nome, idade, 'é maior de idade')  \n",
        "else:\n",
        "  print(nome, idade, 'é menor de idade')"
      ],
      "execution_count": null,
      "outputs": [
        {
          "output_type": "stream",
          "text": [
            "Nome: Ana \n",
            "Idade: 14\n",
            "Ana  14 é menor de idade\n"
          ],
          "name": "stdout"
        }
      ]
    },
    {
      "cell_type": "markdown",
      "metadata": {
        "id": "mWl0IWlJNEtA"
      },
      "source": [
        "###3. Tendo como dados de entrada a altura e o sexo (M/F) de uma pessoa (M-masculino ou F-feminino), construa um algoritmo que calcule seu peso ideal, utilizando as seguintes fórmulas:\n",
        "homem: (72.7 * altura) - 58;\n",
        "\n",
        "mulher: (62.1 * altura) - 44.7\n",
        "\n"
      ]
    },
    {
      "cell_type": "code",
      "metadata": {
        "id": "Q8ZKZyGLNxFf",
        "colab": {
          "base_uri": "https://localhost:8080/"
        },
        "outputId": "7646c305-e995-4094-d307-80a35623f3c0"
      },
      "source": [
        "altura = float(input(\"Digite a altura: \"))\n",
        "sexo = input(\"Digite sexo (M/F): \")\n",
        "\n",
        "if sexo == 'M' or sexo == 'm':\n",
        "  peso = ((72.7 * altura) - 58)\n",
        "elif sexo == 'F' or sexo == 'f':\n",
        "  peso = (62.1 * altura) - 44.7\n",
        "\n",
        "\n",
        "print('Sexo: ', sexo, f'Peso ideal: {peso:.2f}')"
      ],
      "execution_count": null,
      "outputs": [
        {
          "output_type": "stream",
          "name": "stdout",
          "text": [
            "Digite a altura: 1.75\n",
            "Digite sexo (M/F): M\n",
            "Sexo:  M Peso ideal: 69.23\n"
          ]
        }
      ]
    },
    {
      "cell_type": "markdown",
      "metadata": {
        "id": "ZG-AZwwLN4Vf"
      },
      "source": [
        "###4. Faça um algoritmo que leia um número inteiro e mostre uma mensagem indicando se este número é par ou ímpar e se é positivo ou negativo.\n"
      ]
    },
    {
      "cell_type": "code",
      "metadata": {
        "id": "t4jNff-_N9xR",
        "colab": {
          "base_uri": "https://localhost:8080/"
        },
        "outputId": "204a6002-7b7b-45e9-cb89-2b70a14a465e"
      },
      "source": [
        "numero = int(input('Digite um número: '))\n",
        "if (numero % 2 == 0 and numero > 0):\n",
        "  print('O número é par e positivo')\n",
        "elif (numero % 2 != 0 and numero > 0):\n",
        "  print('O número é ímpar e positivo') \n",
        "elif (numero % 2 == 0 and número < 0):\n",
        "  print('O número é par e negativo')\n",
        "else:\n",
        "  print('O número é ímpar e negativo')"
      ],
      "execution_count": null,
      "outputs": [
        {
          "output_type": "stream",
          "text": [
            "Digite um número: -3\n",
            "O número é ímpar e negativo\n"
          ],
          "name": "stdout"
        }
      ]
    },
    {
      "cell_type": "markdown",
      "metadata": {
        "id": "tFR9qp3gN999"
      },
      "source": [
        "###5. Elabore um algoritmo que informando a idade de um nadador o mesmo terá condições de classificar em uma das seguintes categorias: \n",
        "infantil = 5 - 10 anos;\n",
        " \n",
        "juvenil = 11-17 anos; \n",
        "\n",
        "adulto = maiores de 18 anos.\n",
        "\n"
      ]
    },
    {
      "cell_type": "code",
      "metadata": {
        "id": "ECh55bXTOUN3",
        "colab": {
          "base_uri": "https://localhost:8080/"
        },
        "outputId": "83d995db-9df1-4ffd-a02a-0ea2d1c6e609"
      },
      "source": [
        "idade = int(input('Informe a idade: '))\n",
        "if idade >= 5 and idade <= 10:\n",
        "    print('Categoria infantil')\n",
        "elif idade >= 11 and idade <= 17:\n",
        "    print('Categoria juvenil')\n",
        "elif idade >= 18:\n",
        "    print('Categoria adulto')\n",
        "else:\n",
        "    print('Idade não permitida na natação')"
      ],
      "execution_count": null,
      "outputs": [
        {
          "output_type": "stream",
          "text": [
            "Informe a idade: 3\n",
            "Idade não permitida na natação\n"
          ],
          "name": "stdout"
        }
      ]
    },
    {
      "cell_type": "markdown",
      "metadata": {
        "id": "pWT4E1FfOUkH"
      },
      "source": [
        "###6. Um banco concederá um crédito especial aos seus clientes, variável com o saldo médio no último ano. Faça um algoritmo que leia o saldo médio de um cliente e calcule o valor do crédito de acordo com a tabela a seguir. Mostre uma mensagem informando o saldo médio e o valor do crédito.\n",
        "        Saldo médio\n",
        "        * de 0 a 200 nenhum crédito\n",
        "        * de 201 a  400 20% do valor do saldo médio\n",
        "        * de 401 a  600 30% do valor do saldo médio\n",
        "        * acima de 601 40% do valor do saldo médio\n"
      ]
    },
    {
      "cell_type": "code",
      "metadata": {
        "id": "bjndIJmMP2--",
        "colab": {
          "base_uri": "https://localhost:8080/"
        },
        "outputId": "71c992a1-c75f-44db-af0d-cb1ac84e9e15"
      },
      "source": [
        "saldo_medio = int(input('Digite o saldo médio: '))\n",
        "if saldo_medio > 0 and saldo_medio <= 200:\n",
        "  print('Saldo médio de :', saldo_medio, '. Sem crédito especial disponível.')\n",
        "elif saldo_medio > 201 and saldo_medio <= 400:\n",
        "  credito = saldo_medio * 20 / 100\n",
        "  print('Saldo médio de:', saldo_medio, '. Você tem R$', credito, 'de crédito especial disponível.')\n",
        "elif saldo_medio > 401 and saldo_medio <= 600:\n",
        "  credito = saldo_medio * 30 / 100\n",
        "  print('Saldo médio de:', saldo_medio, '. Você tem R$', credito, 'de crédito especial disponível.')\n",
        "else:\n",
        "  credito = saldo_medio * 40 / 100\n",
        "  print('Saldo médio de:', saldo_medio, '. Você tem R$', credito, 'de crédito especial disponível.') "
      ],
      "execution_count": null,
      "outputs": [
        {
          "output_type": "stream",
          "text": [
            "Digite o saldo médio: 601\n",
            "Saldo médio de: 601 . Você tem R$ 240.4 de crédito especial disponível\n"
          ],
          "name": "stdout"
        }
      ]
    },
    {
      "cell_type": "markdown",
      "metadata": {
        "id": "4NQ1BgrnQCJ4"
      },
      "source": [
        "###7. A Organização Mundial de Saúde usa a seguinte tabela para determinar a condição de um adulto, para isso desenvolva um algoritmo para calcular o Índice de Massa Corporal (IMC) e apresenta-lo, dado pela fórmula: \n",
        "    IMC = peso / (altura)2   (o número 2 significa, elevado ao quadrado)\n",
        "\n",
        "CONDIÇÃO |  IMC em adultos |\n",
        " ---|---\n",
        "Abaixo do peso  |\tAbaixo de 18.5  |\n",
        "No peso normal\t|\tEntre 18.5 e 25|\n",
        "Acima do peso\t|\tEntre 25.1 e 30|\n",
        "Obeso\t\t    |\tAcima de 30|"
      ]
    },
    {
      "cell_type": "code",
      "metadata": {
        "id": "s7C4mls6TT90",
        "colab": {
          "base_uri": "https://localhost:8080/"
        },
        "outputId": "92de859d-a12d-440e-f413-41ea5fa383fe"
      },
      "source": [
        "peso = float(input('Digite o seu peso: '))\n",
        "altura = float(input('Digite sua altura: '))\n",
        "IMC = peso / (altura ** 2)\n",
        "if IMC < 18.5:\n",
        "  print('Você está abaixo do peso.')\n",
        "elif IMC >= 18.5 and IMC <= 25:\n",
        "  print('Você está no peso ideal.')\n",
        "elif IMC > 25.1 and IMC <= 30:\n",
        "  print('ATENÇÂO! Você está acima do peso.')\n",
        "else:\n",
        "  print('CUIDADO!!! Você é obeso e sua saúde corre perigo.')"
      ],
      "execution_count": null,
      "outputs": [
        {
          "output_type": "stream",
          "text": [
            "Digite o seu peso: 120\n",
            "Digite sua altura: 1.75\n",
            "CUIDADO!!! Você é obeso e sua saúde corre perigo.\n"
          ],
          "name": "stdout"
        }
      ]
    },
    {
      "cell_type": "markdown",
      "metadata": {
        "id": "-Lj_vtkDwhfJ"
      },
      "source": [
        "### 8. A nota final de um estudante é calculada a partir de três notas atribuídas, respectivamente, a um trabalho de laboratório, a uma avaliação semestral e a um exame final. A média das três notas mencionadas obedece aos pesos a seguir:\n",
        "\n",
        " NOTA |  PESO |\n",
        " ---|---\n",
        "Trabalho de laboratório  |   2   |\n",
        "Avaliação semestral      |   3   |\n",
        "Exame final              |   5   |\n",
        "\n",
        "### Faça um programa que receba as três notas, calcule e mostre a média ponderada e o conceito que segue a tabela\n",
        "\n",
        "MÉDIA PONDERADA    | CONCEITO|\n",
        "---|---\n",
        "8,0 <= média <= 10  |    A \n",
        "7,0 <= média < 8,0  |    B \n",
        "6,0 <= média < 7,0  |    C \n",
        "5,0 <= média < 6,0  |    D \n",
        " 0,0 <= média < 5,0  |    E\n",
        "       \n",
        "media_ponderada = (nota_traballho * 2 + avaliacao_semestral * 3 + exame_final * 5) / 10\n",
        "\n"
      ]
    },
    {
      "cell_type": "code",
      "metadata": {
        "id": "fhlh7OxNwDhl",
        "colab": {
          "base_uri": "https://localhost:8080/"
        },
        "outputId": "e25f32bf-cad0-4660-cac5-9df4721258ff"
      },
      "source": [
        "trabalho = float(input('Digite a nota do trabalho de laboratório: '))\n",
        "avaliacao = float(input('Digite a nota da avaliação semestral: '))\n",
        "exame = float(input('Digite a nota do exame final: '))\n",
        "media = (trabalho * 2 + avaliacao * 3 + exame * 5) / 10\n",
        "if media >= 8.0 and media <= 10.0:\n",
        "  print('Sua média foi de: ', media, ' e seu conceito foi A')\n",
        "elif media >= 7.0 and media < 8.0:\n",
        "  print('Sua média foi de: ', media, ' e seu conceito foi B')\n",
        "elif media >= 6.0 and media < 7.0:\n",
        "  print('Sua média foi de: ', media, ' e seu conceito foi C')\n",
        "elif media >= 5.0 and media < 6.0:\n",
        "  print('Sua média foi de: ', media, ' e seu conceito foi D')\n",
        "else:\n",
        "   print('Sua média foi de: ', media, ' e seu conceito foi E')\n",
        "  "
      ],
      "execution_count": null,
      "outputs": [
        {
          "output_type": "stream",
          "text": [
            "Digite a nota do trabalho de laboratório: 2\n",
            "Digite a nota da avaliação semestral: 2\n",
            "Digite a nota do exame final: 2\n",
            "Sua média foi de:  2.0  e seu conceito foi E\n"
          ],
          "name": "stdout"
        }
      ]
    },
    {
      "cell_type": "markdown",
      "metadata": {
        "id": "PAaDySD4wkK_"
      },
      "source": [
        "### 9. Faça um programa que receba três notas de um aluno, calcule e mostre a média aritmética e a mensagem constante na tabela a seguir. Aos alunos que ficaram para exame, calcule e mostre a nota que deverão tirar para serem aprovados, considerando que a média exigida é 6,0.\n",
        "\n",
        "MÉDIA ARITMÉTICA | MENSAGEM\n",
        "    ---|---\n",
        "    0 <= média < 3 |Reprovado\n",
        "    3 <= média < 6|Exame\n",
        "    6 <= média <= 10|Aprovado\n",
        "\n",
        "```\n",
        "SE media >= 3 E media < 6\n",
        "    ESCREVA “Exame”\n",
        "    nota_exame = 12 - media\n",
        "    ESCREVA “Você deve tirar a nota”, nota_exame, “para ser aprovado.”\n"
      ]
    },
    {
      "cell_type": "code",
      "metadata": {
        "id": "y1Wfq8tzwm06",
        "colab": {
          "base_uri": "https://localhost:8080/"
        },
        "outputId": "72fc7177-49fd-452c-9e0c-85ebaf8b3e67"
      },
      "source": [
        "nota = float(input('Insira a nota 1: '))\n",
        "nota2 = float(input('Insira a nota 2: '))\n",
        "nota3 = float(input('Insira a nota 3: '))\n",
        "media = (nota + nota2 + nota3) / 3\n",
        "if media >= 6 and media <= 10:\n",
        "  print('Sua média é: ', media, '. Aprovado.')\n",
        "elif media >= 3. and media < 60:\n",
        "  print('Exame.')\n",
        "  exame = 12 - media\n",
        "  print('Você deve tirar a nota', exame, 'para ser aprovado.')\n",
        "else:\n",
        "  print('Sua média é: ', media, '. Reprovado')\n"
      ],
      "execution_count": null,
      "outputs": [
        {
          "output_type": "stream",
          "text": [
            "Insira a nota 1: 0\n",
            "Insira a nota 2: 1.6\n",
            "Insira a nota 3: 2.0\n",
            "Sua média é:  1.2 . Reprovado\n"
          ],
          "name": "stdout"
        }
      ]
    },
    {
      "cell_type": "markdown",
      "metadata": {
        "id": "7O0Mqmidwm-j"
      },
      "source": [
        "### 10. Faça um programa que receba dois números e mostre o maior.\n"
      ]
    },
    {
      "cell_type": "code",
      "metadata": {
        "id": "HcTiyc7GwpKM",
        "colab": {
          "base_uri": "https://localhost:8080/"
        },
        "outputId": "31f1b439-79c5-443b-eb12-5541686a32e8"
      },
      "source": [
        "numero1 = int(input('Digite um número: '))\n",
        "numero2 = int(input('Digite um número:'))\n",
        "if numero1 > numero2:\n",
        "  print(numero1, 'é o maior.')\n",
        "else:\n",
        "  print(numero2, 'é o maior.')"
      ],
      "execution_count": null,
      "outputs": [
        {
          "output_type": "stream",
          "text": [
            "Digite um número: 165\n",
            "Digite um número:276\n",
            "276 é o maior.\n"
          ],
          "name": "stdout"
        }
      ]
    },
    {
      "cell_type": "markdown",
      "metadata": {
        "id": "2_NBZeVXwpTd"
      },
      "source": [
        "### 11. Faça um programa que receba três números e mostre-os em ordem crescente. Suponha que o usuário digitará três números diferentes.\n",
        "\n",
        "```\n",
        "SE numero1 < numero2 E numero1 < numero3\n",
        "    SE numero2 < numero3\n",
        "        ESCREVA “A ordem crescente é: “,numero1,“-”,numero2,“-”,numero3\n",
        "    SENÃO\n",
        "        ESCREVA “A ordem crescente é: “,numero1,“-”,numero3,“-”,numero2\n",
        "SE numero2 < numero1 E numero2 < numero3\n",
        "    SE numero1 < numero3\n",
        "        ESCREVA “A ordem crescente é: “,numero2,“-”,numero1,“-”,numero3\n",
        "    SENÃO\n",
        "        ESCREVA “A ordem crescente é: “,numero2,“-”,numero3,“-”,numero1\n",
        "SE numero3 < numero1 E numero3 < num2\n",
        "    SE numero1 < numero2\n",
        "        ESCREVA “A ordem crescente é: “,numero3,“-”,numero1,“-”,numero2\n",
        "    SENÃO \n",
        "        ESCREVA “A ordem crescente é: “,numero3,“-”,numero2,“-”,numero1\n",
        "  ```"
      ]
    },
    {
      "cell_type": "code",
      "metadata": {
        "id": "Ek3oVh59wsJJ",
        "colab": {
          "base_uri": "https://localhost:8080/"
        },
        "outputId": "439798d0-327c-4a2d-824d-516904b54aab"
      },
      "source": [
        "numero1 = int(input('Insira um número: '))\n",
        "numero2 = int(input('Insira um número: '))\n",
        "numero3 = int(input('Insira um número: '))\n",
        "\n",
        "if numero1 < numero2 and numero1 < numero3:\n",
        "  if numero2 < numero3:\n",
        "    print('A ordem crescente é: ', numero1, '-', numero2,'-', numero3)\n",
        "  else:\n",
        "    print('A ordem crescente é: ', numero1, '-', numero3,'-', numero2)\n",
        "if numero2 < numero1 and numero2 < numero3:\n",
        "  if numero1 < numero3:\n",
        "    print('A ordem crescente é: ', numero2, '-', numero1,'-', numero3)\n",
        "  else:\n",
        "    print('A ordem crescente é: ', numero2, '-', numero3,'-', numero1)\n",
        "if numero3 < numero1 and numero3 < numero2:\n",
        "  if numero2 < numero1:\n",
        "    print('A ordem crescente é: ', numero3, '-', numero2,'-', numero1)\n",
        "  else:\n",
        "    print('A ordem crescente é: ', numero3, '-', numero1,'-', numero2)"
      ],
      "execution_count": null,
      "outputs": [
        {
          "output_type": "stream",
          "text": [
            "Insira um número: 7\n",
            "Insira um número: 8\n",
            "Insira um número: 3\n",
            "A ordem crescente é:  3 - 7 - 8\n"
          ],
          "name": "stdout"
        }
      ]
    },
    {
      "cell_type": "markdown",
      "metadata": {
        "id": "ZhHFeeuKwsS_"
      },
      "source": [
        "### 12. Faça um programa que receba três números obrigatoriamente em ordem crescente e um quarto número que não siga essa regra. Mostre, em seguida, os quatro números em ordem decrescente. Suponha que o usuário digitará quatro números diferentes.\n",
        "\n",
        "```code\n",
        "SE numero4 > numero3\n",
        "    ESCREVA “A ordem decrescente é: “,numero4,“-”,numero3,“-”,numero2,“-”,numero1\n",
        "SENÃO SE numero4 > numero2 E numero4 < numero3\n",
        "    ESCREVA “A ordem decrescente é: “,numero3,“-”,numero4,“-”,numero2,“-”,numero1\n",
        "SENÃO SE numero4 > numero1 E numero4 < numero2\n",
        "    ESCREVA “A ordem decrescente é: “,numero3,“-”,numero2,“-”,numero4, “-”,numero1\n",
        "SENÃO SE numero4 < numero1\n",
        "    ESCREVA “A ordem decrescente é: “,numero3,“-”,numero2,“-”,numero1,“-”,numero4\n",
        "```"
      ]
    },
    {
      "cell_type": "code",
      "metadata": {
        "id": "MXb2lDpTwukn",
        "colab": {
          "base_uri": "https://localhost:8080/"
        },
        "outputId": "eb4550f3-f5a7-4a5b-e5f9-476e0367296f"
      },
      "source": [
        "numero1 = int(input('Insira um número: '))\n",
        "numero2 = int(input('Insira um número maior que o anterior: '))\n",
        "numero3 = int(input('Insira um número maior que o anterior: '))\n",
        "numero4 = int(input('Insira um número: '))\n",
        "\n",
        "if numero4 > numero3:\n",
        "  print('A ordem descrecente é: ', numero4,'-', numero3, '-', numero2, '-', numero1)\n",
        "elif numero4 > numero2 and numero4 < numero3:\n",
        "  print('A ordem descrecente é: ', numero3,'-', numero4, '-', numero2, '-', numero1)\n",
        "elif numero4 > numero1 and numero4 < numero2:\n",
        "  print('A ordem descrecente é: ', numero3,'-', numero2, '-', numero4, '-', numero1)\n",
        "elif numero4 > numero1:\n",
        "  print('A ordem descrecente é: ', numero3,'-', numero2, '-', numero1, '-', numero4)\n",
        "else\n",
        "  print('')"
      ],
      "execution_count": null,
      "outputs": [
        {
          "output_type": "stream",
          "text": [
            "Insira um número: 7\n",
            "Insira um número maior que o anterior: 14\n",
            "Insira um número maior que o anterior: 21\n",
            "Insira um número: 28\n",
            "A ordem descrecente é:  28 - 21 - 14 - 7\n"
          ],
          "name": "stdout"
        }
      ]
    },
    {
      "cell_type": "markdown",
      "metadata": {
        "id": "U6uFBqEEwxTU"
      },
      "source": [
        "### 13. Faça um programa que receba quatro valores: I, A, B e C. Desses valores, I é inteiro e positivo, A, B e C são reais. Escreva os números A, B e C obedecendo à tabela a seguir.\n",
        "\n",
        "*Suponha que o valor digitado para I seja sempre um valor válido, ou seja, 1, 2 ou 3, e que os números digitados sejam diferentes um do outro.*\n",
        "\n",
        "  |VALOR DE I | FORMA A ESCREVER|\n",
        "  |---|---|\n",
        "  |1                  |A, B e C em ordem crescente.|\n",
        "  |2                  |A, B e C em ordem decrescente|\n",
        "  |3                  |O maior fica entre os outros dois números.|\n",
        "\n",
        "  ```code\n",
        "SE I == 1\n",
        "    SE A<B E A<C\n",
        "        SE B<C\n",
        "            ESCREVA “A ordem crescente dos números é:”,A,” -”,B,”-”,C\n",
        "        SENÃO\n",
        "            ESCREVA “A ordem crescente dos números é:”,A,” -”,C,”-”,B\n",
        "    SE B<A E B<C\n",
        "        SE A<C\n",
        "            ESCREVA “A ordem crescente dos números é:”,B,”-”,A,”-”,C\n",
        "        SENÃO\n",
        "            ESCREVA “A ordem crescente dos números é: “,B,”-”,C,”-”,A\n",
        "    SE C<A E C<B\n",
        "        SE A<B\n",
        "            ESCREVA “A ordem crescente dos números é: “,C,”-”,A,”-”,B\n",
        "        SENÃO\n",
        "            ESCREVA “A ordem crescente dos números é: “,C,”-”,B,”-”,A\n",
        "SE I == 2\n",
        "    SE A>B E A>C\n",
        "        SE B>C\n",
        "            ESCREVA “A ordem decrescente dos números é: “,A,” -”,B,”-”,C\n",
        "        SENÃO\n",
        "            ESCREVA “A ordem decrescente dos números é: “,A,” -”,C,”-”,B\n",
        "    SE B>A E B>C\n",
        "        SE A>C\n",
        "            ESCREVA “A ordem decrescente dos números é: “,B,” -”,A,”-”,C\n",
        "        SENÃO\n",
        "            ESCREVA “A ordem decrescente dos números é: “,B,” -”,C,”-”,A\n",
        "    SE C>A E C>B\n",
        "        SE A>B\n",
        "            ESCREVA “A ordem decrescente dos números é: “,C,” -”,A,”-”,B\n",
        "        SENÃO\n",
        "            ESCREVA “A ordem decrescente dos números é: “,C,” -”,B,”-”,A\n",
        "SE I == 3\n",
        "    SE A>B E A>C\n",
        "        ESCREVA “A ordem desejada é: “,B,”-”,A,”-”,C\n",
        "    SE B>A E B>C\n",
        "        ESCREVA “A ordem desejada é: “,A,”-”,B,”-”,C\n",
        "    SE C>A E C>B\n",
        "        ESCREVA “A ordem desejada é: “,A,”-”,C,”-”,B\n",
        "```"
      ]
    },
    {
      "cell_type": "code",
      "metadata": {
        "id": "xComTuz4w2uW",
        "colab": {
          "base_uri": "https://localhost:8080/"
        },
        "outputId": "4748b4e2-f14f-4b21-869a-c34193a16a24"
      },
      "source": [
        "I = int(input('Digite 1, 2 ou 3: '))\n",
        "A = float(input('Insira um número: '))\n",
        "B = float(input('Insira um número: '))\n",
        "C = float(input('Insira um número: '))\n",
        "if I == 1:\n",
        "  if A < B and A < C:\n",
        "    if B < C:\n",
        "      print(\"A ordem crescente dos números é: \",A,\" -\",B,\" -\",C)\n",
        "  else:\n",
        "    print(\"A ordem crescente dos números é: \",A,\" -\",C,\" -\",B)\n",
        "  if B < A and B < C:\n",
        "    if A < C:\n",
        "     print(\"A ordem crescente dos números é: \",B,\" -\", A,\" -\",C)\n",
        "  else:\n",
        "    print(\"A ordem crescente dos números é: \",B,\" -\",A,\" -\",C)\n",
        "  if C < A and C < B:\n",
        "    if A < B:\n",
        "      print(\"A ordem crescente dos números é: \",C,\" -\",A,\" -\",B)\n",
        "  else:\n",
        "    print(\"A ordem crescente dos números é: \",C,\" -\",B,\" -\",A)\n",
        "if I == 2:\n",
        "  if A > B and A > C:\n",
        "    if B > C:\n",
        "     print(\"A ordem decrescente dos números é: \",A,\" -\",B,\" -\",C)\n",
        "    else:\n",
        "     print(\"A ordem decrescente dos números é: \",A,\" -\",C,\" -\",B)\n",
        "  if B > A and B > C:\n",
        "    if A > C:\n",
        "     print(\"A ordem decrescente dos números é: \",B,\" -\",A,\" -\",C)\n",
        "    else:\n",
        "     print(\"A ordem decrescente dos números é: \",B,\" -\",C,\" -\",A)\n",
        "  if C > A and C > B:\n",
        "    if A > B:\n",
        "     print(\"A ordem decrescente dos números é: \",C,\" -\",A,\" -\",B)      \n",
        "    else:\n",
        "      print(\"A ordem decrescente dos números é: \",C,\" -\",B,\" -\",A)\n",
        "if I == 3:\n",
        "  if A > B and A > C:\n",
        "   print(\"A ordem desejada é: \",B,\" -\",C,\" -\",A)\n",
        "  if B > A and B > C:\n",
        "   print(\"A ordem desejada é: \",A,\" -\",B,\" -\",C)\n",
        "  if C > A and C > B:\n",
        "   print(\"A ordem desejada é: \",A,\" -\",C,\" -\",B)"
      ],
      "execution_count": null,
      "outputs": [
        {
          "output_type": "stream",
          "name": "stdout",
          "text": [
            "Digite 1, 2 ou 3: 2\n",
            "Insira um número: 2\n",
            "Insira um número: 6\n",
            "Insira um número: 8\n",
            "A ordem decrescente dos números é:  8.0  - 6.0  - 2.0\n"
          ]
        }
      ]
    },
    {
      "cell_type": "markdown",
      "metadata": {
        "id": "uN4h6-qFw22p"
      },
      "source": [
        "### 14. Faça um programa que mostre o menu de opções a seguir, receba a opção do usuário e os dados necessários para executar cada operação.\n",
        "\n",
        "    Menu de opções:\n",
        "    1. Somar dois números.\n",
        "    2. Raiz quadrada de um número.\n",
        "\n",
        "Observação: raiz = numero ** (1/2), ou \n",
        "import math\n",
        "raiz = math.sqrt(numero)\n",
        "      "
      ]
    },
    {
      "cell_type": "code",
      "metadata": {
        "id": "8otY1f_ow5Sy",
        "colab": {
          "base_uri": "https://localhost:8080/"
        },
        "outputId": "31735eae-c457-4bfc-ab16-6bb5d51f8b79"
      },
      "source": [
        "print('Menu de opções:')\n",
        "print('1. Somar dois números.')\n",
        "print('2. Raiz quadrada de um número')\n",
        "opcao = int(input('Escolha uma opção: '))\n",
        "import math\n",
        "if opcao == 1:\n",
        "  numero1 = int(input('Digite um número: '))\n",
        "  numero2 = int(input('Digite um número: '))\n",
        "  soma = numero1 + numero2\n",
        "  print('A soma é: ', soma)\n",
        "if opcao == 2:\n",
        "  numero = int(input('Digite um número: '))\n",
        "  raiz = math.sqrt(numero)\n",
        "  print('A raiz quadrada é: ', raiz)"
      ],
      "execution_count": null,
      "outputs": [
        {
          "output_type": "stream",
          "name": "stdout",
          "text": [
            "Menu de opções:\n",
            "1. Somar dois números.\n",
            "2. Raiz quadrada de um número\n",
            "Escolha uma opção: 1\n",
            "Digite um número: 9\n",
            "Digite um número: 8\n",
            "A soma é:  17\n"
          ]
        }
      ]
    },
    {
      "cell_type": "markdown",
      "metadata": {
        "id": "xVYTUU1Qw5b0"
      },
      "source": [
        "### 15. Faça um programa que mostre a data e a hora do sistema nos seguintes formatos: **dia/mês/ano – mês por extenso e hora:minuto**.\n",
        "\n",
        "Observação: ***from*** carrega um módulo/biblioteca da linguagem Python e o ***import*** é usado para informar qual objeto desta biblioteca queremos importar/carregar no nosso programa\n",
        "\n",
        "    from datetime import datetime\n",
        "    #captura a data e hora de hoje de algum país onde esta o servidor que executa nosso programa em Python\n",
        "    #quando eu testei, o servidor era de Dacar-Senegal\n",
        "    hoje = datetime.now()\n",
        "    print ('Ano atual.:',hoje.year)\n",
        "    print ('Mês.......:',hoje.month)\n",
        "    print ('Dia.......:',hoje.day)\n",
        "    print ('Hora......:',hoje.hour)\n",
        "    print ('Minuto....:',hoje.minute)\n",
        "    print ('Segundos..:',hoje.second)"
      ]
    },
    {
      "cell_type": "code",
      "metadata": {
        "id": "e-wpYfvew8A2",
        "colab": {
          "base_uri": "https://localhost:8080/"
        },
        "outputId": "9a77f89c-8730-4da1-8920-1dbe0cbf86fe"
      },
      "source": [
        "from datetime import datetime\n",
        "hoje = datetime.now()\n",
        "print ('Ano atual.:',hoje.year)\n",
        "print ('Mês.......:',hoje.month)\n",
        "print ('Dia.......:',hoje.day)\n",
        "print ('Hora......:',hoje.hour)\n",
        "print ('Minuto....:',hoje.minute)\n",
        "print ('Segundos..:',hoje.second)\n",
        "if hoje.month == 1:\n",
        "    print(hoje.day,'/Janeiro/',hoje.year)"
      ],
      "execution_count": null,
      "outputs": [
        {
          "output_type": "stream",
          "name": "stdout",
          "text": [
            "Ano atual.: 2021\n",
            "Mês.......: 9\n",
            "Dia.......: 1\n",
            "Hora......: 18\n",
            "Minuto....: 18\n",
            "Segundos..: 39\n"
          ]
        }
      ]
    },
    {
      "cell_type": "markdown",
      "metadata": {
        "id": "BwvSTMttw8KJ"
      },
      "source": [
        "### 16. Faça um programa que determine a data cronologicamente maior entre duas datas fornecidas pelo usuário. Cada data deve ser composta por três valores inteiros, em que o primeiro representa o dia, o segundo, o mês e o terceiro, o ano.\n",
        "\n",
        "  ```code\n",
        "  SE ano1 > ano2\n",
        "      ESCREVA “A maior data é: “,dia1,”-”,mes1,”-”,ano1\n",
        "  SENÃO SE ano2>ano1\n",
        "      ESCREVA “A maior data é: “,dia2,”-”,mes2,”-”,ano2\n",
        "  SENÃO SE mes1>mes2\n",
        "      ESCREVA “A maior data é: “,dia1,”-”,mes1,”-”,ano1\n",
        "  SENÃO SE mes2>mes1\n",
        "      ESCREVA “A maior data é: “,dia2, “-”,mes2,”-”,ano2\n",
        "  SENÃO SE dia1>dia2\n",
        "      ESCREVA “A maior data é: “-”,dia1,”-”,mia1,” -”,ano1\n",
        "  SENÃO SE dia2>dia1\n",
        "      ESCREVA “A maior data é: “,dia2,” -”,mes2,”-”,ano2\n",
        "  SENÃO\n",
        "      ESCREVA “As datas são iguais!”\n",
        "  ```"
      ]
    },
    {
      "cell_type": "code",
      "metadata": {
        "id": "Ayf2tlS1w-e7",
        "colab": {
          "base_uri": "https://localhost:8080/"
        },
        "outputId": "3e433774-c705-4cf5-ccab-a430d9e985a3"
      },
      "source": [
        "dia1 = int(input('Digite um dia de 01 a 31: '))\n",
        "mes1 = int(input('Digite um mês de 01 a 12: '))\n",
        "ano1 = int(input('Digite um ano: '))\n",
        "dia2 = int(input('Digite um dia de 01 a 31: '))\n",
        "mes2 = int(input('Digite um mês de 01 a 12: '))\n",
        "ano2 = int(input('Digite um ano: '))\n",
        "if ano1 > ano2:\n",
        "  print('A maior data é :', dia1, mes1, ano1)\n",
        "elif ano2 > ano1:\n",
        "  print('A maior data é :', dia2, mes2, ano2)\n",
        "elif mes1 > mes2:\n",
        "  print('A maior data é :', dia1, mes1, ano1)\n",
        "elif mes2 > mes1:\n",
        "  print('A maior data é :', dia2, mes2, ano2)\n",
        "elif dia1 > dia2:\n",
        "  print('A maior data é :', dia1, mes1, ano1)\n",
        "elif dia2 > dia1:\n",
        "  print('A maior data é :', dia2, mes2, ano2)\n",
        "else:\n",
        "  print(\"As datas são iguais\")"
      ],
      "execution_count": null,
      "outputs": [
        {
          "output_type": "stream",
          "name": "stdout",
          "text": [
            "Digite um dia de 01 a 31: 2\n",
            "Digite um mês de 01 a 12: 3\n",
            "Digite um ano: 1996\n",
            "Digite um dia de 01 a 31: 2\n",
            "Digite um mês de 01 a 12: 3\n",
            "Digite um ano: 2000\n",
            "A maior data é : 2 3 2000\n"
          ]
        }
      ]
    },
    {
      "cell_type": "markdown",
      "metadata": {
        "id": "cWnawYSbw-o9"
      },
      "source": [
        "### 17. Faça um programa que receba a hora do início de um jogo e a hora do término (cada hora é composta por duas variáveis inteiras: hora e minuto). Calcule e mostre a duração do jogo (horas e minutos), sabendo que o tempo máximo de duração do jogo é de 24 horas e que ele pode começar em um dia e terminar no dia seguinte.\n",
        "    SE min_inicial > min_f\n",
        "        minuto_final = minuto_final + 60\n",
        "        hora_final = hora_final – 1\n",
        "    SE hora_inicial > hora_final\n",
        "        hora_final = hora_final + 24\n",
        "    minuto_duracao = minuto_final - minuto_inicial\n",
        "    hora_duracao = hora_final - hora_inicial"
      ]
    },
    {
      "cell_type": "code",
      "metadata": {
        "id": "-Eq9yPDyxAvk",
        "colab": {
          "base_uri": "https://localhost:8080/"
        },
        "outputId": "c0e6770a-9f0f-42cc-9636-178bec1272b7"
      },
      "source": [
        "hora_inicial = int(input(\"Digite a hora de inicio do jogo no formato 24h \"))\n",
        "min_inicial = int(input(\"Digite o minuto inicio do jogo \"))\n",
        "hora_final = int(input(\"Digite a hora de fim de jogo no formato 24h \"))  \n",
        "min_final = int(input(\"Digite com quantos minutos o jogo terminou \")) \n",
        "if min_inicial > min_final:\n",
        "    min_final = min_final + 60\n",
        "    hora_final = hora_final - 1\n",
        "if hora_inicial > hora_final:\n",
        "   hora_final = hora_final + 24\n",
        "minuto_duracao = min_final - min_inicial\n",
        "hora_duracao = hora_final - hora_inicial\n",
        "print (\"o jogo durou: \",hora_duracao,\":\",minuto_duracao)"
      ],
      "execution_count": null,
      "outputs": [
        {
          "output_type": "stream",
          "name": "stdout",
          "text": [
            "Digite a hora de inicio do jogo no formato 24h 6\n",
            "Digite o minuto inicio do jogo 54\n",
            "Digite a hora de fim de jogo no formato 24h 08\n",
            "Digite com quantos minutos o jogo terminou 32\n",
            "o jogo durou:  1 : 38\n"
          ]
        }
      ]
    },
    {
      "cell_type": "markdown",
      "metadata": {
        "id": "eT4oGEI9xA42"
      },
      "source": [
        "### 18. Faça um programa que receba o código correspondente ao cargo de um funcionário e seu salário atual e mostre o cargo, o valor do aumento e seu novo salário. Os cargos estão na tabela a seguir.\n",
        "\n",
        "  |CÓDIGO|CARGO|PERCENTUAL|\n",
        "  |---|---|---|\n",
        "  |1|Escriturário|50%|\n",
        "  |2|Secretário|35%|\n",
        "  |3|Caixa|20%|\n",
        "  |4|Gerente|10%|\n",
        "  |5|Diretor|Não tem aumento|\n",
        "\n",
        "```code\n",
        "SE cargo == 1\n",
        "    ESCREVA “O cargo é Escriturário”\n",
        "    aumento = salario * 50 / 100\n",
        "    ESCREVA “O valor do aumento é: “, aumento\n",
        "    novo_sal = salario + aumento\n",
        "    ESCREVA “O novo salário é: “, novo_sal\n",
        "SENÃO SE cargo == 2\n",
        "    ESCREVA “O cargo é Secretário”\n",
        "    aumento = salario * 35 / 100\n",
        "    ESCREVA “O valor do aumento é: “, aumento\n",
        "    novo_sal = salario + aumento\n",
        "    ESCREVA “O novo salário é: “, novo_sal]\n",
        "SENÃO SE cargo == 3\n",
        "    ESCREVA “O cargo é Caixa”\n",
        "    aumento = salario * 20 / 100\n",
        "    ESCREVA “O valor do aumento é: “, aumento\n",
        "    novo_sal = salario + aumento\n",
        "    ESCREVA “O novo salário é: “,novo_sal\n",
        "SENÃO SE cargo == 4\n",
        "    ESCREVA “O cargo é Gerente”\n",
        "    aumento = salario * 10 / 100\n",
        "    ESCREVA “O valor do aumento é: “, aumento\n",
        "    novo_sal = salario + aumento\n",
        "    ESCREVA “O novo salário é: “, novo_sal\n",
        "SENÃO SE cargo == 5\n",
        "    ESCREVA “O cargo é Diretor”\n",
        "    aumento = salario * 0 / 100\n",
        "    ESCREVA “O valor do aumento é: “, aumento\n",
        "    novo_sal = salario + aumento\n",
        "    ESCREVA “O novo salário é: “, novo_sal\n",
        "```"
      ]
    },
    {
      "cell_type": "code",
      "metadata": {
        "id": "Akw301nvxDG0",
        "colab": {
          "base_uri": "https://localhost:8080/"
        },
        "outputId": "14831954-c16b-4e32-c14d-7eb772d36120"
      },
      "source": [
        "print('Cargo = código')\n",
        "print('Escriturário = 1; Secretário = 2; Caixa = 3; Gerente = 4; Diretor = 5')\n",
        "cargo = int(input('Digite o código do cargo:'))\n",
        "if cargo == 1:\n",
        "  print('O cargo é escrituário.')\n",
        "  salario = float(input('Insira o salário: '))\n",
        "  aumento = salario * 50 / 100\n",
        "  print('O aumento é de R$: ', aumento)\n",
        "  novo_sal = salario + aumento\n",
        "  print('o novo salário é R$:', novo_sal)\n",
        "elif cargo == 2:\n",
        "  print('O cargo é secretário.')\n",
        "  salario = float(input('Insira o salário: '))\n",
        "  aumento = salario * 35 / 100\n",
        "  print('O aumento é de R$: ', aumento)\n",
        "  novo_sal = salario + aumento\n",
        "  print('o novo salário é R$:', novo_sal)\n",
        "elif cargo == 3:\n",
        "  print('O cargo é Caixa.')\n",
        "  salario = float(input('Insira o salário: '))\n",
        "  aumento = salario * 20 / 100\n",
        "  print('O aumento é de R$: ', aumento)\n",
        "  novo_sal = salario + aumento\n",
        "  print('o novo salário é R$:', novo_sal)\n",
        "elif cargo == 4:\n",
        "  print('O cargo é gerente.')\n",
        "  salário = float(input('Insira o salário: '))\n",
        "  aumento = salário * 50 / 100\n",
        "  print('O aumento é de R$: ', aumento)\n",
        "  novo_sal = salario + aumento\n",
        "  print('o novo salário é R$:', novo_sal)\n",
        "elif cargo == 5:\n",
        "  print('O cargo é diretor.')\n",
        "  salario = float(input('Insira o salário: '))\n",
        "  print('Não houve aumento proposto.')"
      ],
      "execution_count": null,
      "outputs": [
        {
          "output_type": "stream",
          "name": "stdout",
          "text": [
            "Cargo = código\n",
            "Escriturário = 1; Secretário = 2; Caixa = 3; Gerente = 4; Diretor = 5\n",
            "Digite o código do cargo:5\n",
            "O cargo é diretor.\n",
            "Insira o salário: 10000.00\n",
            "Não houve aumento proposto.\n"
          ]
        }
      ]
    },
    {
      "cell_type": "markdown",
      "metadata": {
        "id": "wKORNMrWxDQs"
      },
      "source": [
        "### 19. Faça um programa que apresente o menu a seguir, permita ao usuário escolher a opção desejada, receba os dados necessários para executar a operação e mostre o resultado. Verifique a possibilidade de opção inválida e não se preocupe com restrições, como salário negativo.\n",
        "\n",
        "    Menu de opções\n",
        "    1. Imposto\n",
        "    2. Novo salário\n",
        "    3. Classificação\n",
        "    Digite a opção desejada:\n",
        "\n",
        "*Na opção 1: receber o salário de um funcionário, calcular e mostrar o valor do imposto usando as regras a seguir.*\n",
        "\n",
        "  |SALÁRIO|PERCENTUAL DO IMPOSTO|\n",
        "  |---|---|\n",
        "  |Menor que  500,00|5%|\n",
        "  |De  500,00 (inclusive) a  850,00 (inclusive)|10%|\n",
        "  |Acima de  850,00|15%|\n",
        "\n",
        "*Na opção 2: receber o salário de um funcionário, calcular e mostrar o valor do novo salário, usando as regras a seguir.*\n",
        "\n",
        "  |SALÁRIO|AUMENTO|\n",
        "  |---|---|\n",
        "  |Maior que  1.500,00| 25,00|\n",
        "  |De  750,00 (inclusive) a  1.500,00 (inclusive)| 50,00|\n",
        "  |De  450,00 (inclusive) a  750,00| 75,00|\n",
        "  |Menor que  450,00| 100,00|\n",
        "\n",
        "*Na opção 3: receber o salário de um funcionário e mostrar sua classificação usando a tabela a seguir.*\n",
        "\n",
        "|SALÁRIO|CLASSIFICAÇÃO|\n",
        "|---|---|\n",
        "|Até  700,00 (inclusive)|Mal remunerado|\n",
        "|Maiores que  700,00|Bem remunerado|\n"
      ]
    },
    {
      "cell_type": "code",
      "metadata": {
        "id": "LsX6cPFdxFxe",
        "colab": {
          "base_uri": "https://localhost:8080/"
        },
        "outputId": "4c026c01-9643-4629-e7f3-c8b31881da13"
      },
      "source": [
        "print('Menu de opções' '\\n' '1.Imposto' '\\n' '2.Novo salário' '\\n' '3. Classificação')\n",
        "\n",
        "opcao = int(input('Digite a opção desejada: '))\n",
        "if opcao == 1:\n",
        "  salario = float(input('Digite o salário R$: '))\n",
        "  if salario < 500.00:\n",
        "    imposto = salario * 5 / 100\n",
        "    print('O valor do imposto é R$: ', imposto)\n",
        "  elif salario >= 500.00 and salario <= 850.00:\n",
        "    imposto = salario * 10 / 100\n",
        "    print('O valor do imposto é R$: ', imposto)\n",
        "  elif salario > 850.00:\n",
        "    imposto = salario * 15 / 100\n",
        "    print('O valor do imposto é R$: ', imposto)\n",
        "if opcao == 2:\n",
        "  salario = float(input('Digite o salário R$: '))\n",
        "  if salario > 1500.00:\n",
        "    aumento = 25.00\n",
        "    novo_sal = salario + aumento\n",
        "    print('Novo salário é de R$: ', novo_sal)\n",
        "  elif salario >= 750.00 and salario <= 1500.00:\n",
        "    aumento = 50.00\n",
        "    novo_sal = salario + aumento\n",
        "    print('Novo salário é de R$: ', novo_sal)\n",
        "  elif salario >= 450.00 and salario < 750.00:\n",
        "    aumento = 75.00\n",
        "    novo_sal = salario + aumento\n",
        "    print('Novo salário é de R$: ', novo_sal)\n",
        "  else:\n",
        "    aumento = 100.00\n",
        "    novo_sal = salario + aumento\n",
        "    print('Novo salário é de R$: ', novo_sal)\n",
        "if opcao == 3:\n",
        "  salario = float(input('Digite o salário R$: '))\n",
        "  if salario <= 700.00:\n",
        "    print(f'{salario:.2f}', 'Mal remunerado')\n",
        "  else:\n",
        "    print(f'{salario:.2f}', 'Bem remunerado')"
      ],
      "execution_count": null,
      "outputs": [
        {
          "output_type": "stream",
          "name": "stdout",
          "text": [
            "Menu de opções\n",
            "1.Imposto\n",
            "2.Novo salário\n",
            "3. Classificação\n",
            "Digite a opção desejada: 1\n",
            "Digite o salário R$: 500.00\n",
            "O valor do imposto é R$:  50.0\n"
          ]
        }
      ]
    },
    {
      "cell_type": "markdown",
      "metadata": {
        "id": "pNlvJKW5xF6H"
      },
      "source": [
        "###20. Faça um programa que receba o salário inicial de um funcionário, calcule e mostre o novo salário, acrescido de bonificação e de auxílio escola.\n",
        "\n",
        "|SALÁRIO|BONIFICAÇÃO|\n",
        "|---|---|\n",
        "|Até  500,00|5% do salário|\n",
        "|Entre  500,00 e 1.200,00|12% do salário|\n",
        "|Acima de  1.200,00|Sem bonificação|\n",
        ">\n",
        "|SALÁRIO|AUXÍLIO ESCOLA|\n",
        "|---|---|\n",
        "|Até  600,00| 150,00|\n",
        "|Acima de  600,00| 100,00|\n",
        "\n",
        "novo_salario = salario + bonificacao + auxílio escola"
      ]
    },
    {
      "cell_type": "code",
      "metadata": {
        "id": "m2EJlS2IxIrf",
        "colab": {
          "base_uri": "https://localhost:8080/"
        },
        "outputId": "1089d2b1-4a1c-4ca0-c9b0-85b0604935de"
      },
      "source": [
        "salario = float(input('Digite o salário R$:'))\n",
        "if salario <= 500.00:\n",
        "  bonificacao = salario * 5 / 100\n",
        "elif salario > 500.00 and salario <= 1200.00:\n",
        "  bonificacao = salario * 12 / 100\n",
        "else:\n",
        "  bonificacao = 0.0\n",
        "if salario <= 600.00:\n",
        "  auxilioescola = 150.00\n",
        "else:\n",
        "  auxilioescola= 100.00\n",
        "novo_sal = salario + bonificacao + auxilioescola\n",
        "print('Seu novo salário é R$:', novo_sal)"
      ],
      "execution_count": null,
      "outputs": [
        {
          "output_type": "stream",
          "name": "stdout",
          "text": [
            "Digite o sala´rio R$:1201.00\n",
            "Seu novo salário é R$: 1301.0\n"
          ]
        }
      ]
    },
    {
      "cell_type": "markdown",
      "metadata": {
        "id": "fA_TpNq4xI0h"
      },
      "source": [
        "### 21. Faça um programa que receba o valor do salário mínimo, o número de horas trabalhadas, o número de dependentes do funcionário e a quantidade de horas extras trabalhadas. Calcule e mostre o salário a receber do funcionário de acordo com as regras a seguir:\n",
        "\n",
        "  * O valor da hora trabalhada é igual a 1/5 do salário mínimo.\n",
        "  * O salário do mês é igual ao número de horas trabalhadas multiplicado pelo valor da hora trabalhada.\n",
        "  * Para cada dependente, acrescentar  32,00.\n",
        "  * Para cada hora extra trabalhada, calcular o valor da hora * trabalhada acrescida de 50%.\n",
        "  * O salário bruto é igual ao salário do mês mais o valor dos dependentes mais o valor das horas extras.\n",
        "  * Calcular o valor do impostoosto de renda retido na fonte de acordo com a tabela a seguir:\n",
        "\n",
        "|IRFF|SALÁRIO BRUTO|\n",
        "|---|---|\n",
        "|Isento|Inferior a  200,00|\n",
        "|10%|De  200,00 até 500,00|\n",
        "|20%|Superior a  500,00|\n",
        "\n",
        "  * O salário líquido é igual ao salário bruto menos IRRF.\n",
        "  * A gratificação é de acordo com a tabela a seguir:\n",
        "\n",
        "|SALÁRIO LÍQUIDO|GRATIFICAÇÃO|\n",
        "|---|---|\n",
        "|Até 350,00| 100,00|\n",
        "|Superior a  350| 50,00|\n",
        "\n",
        "  * O salário a receber do funcionário é igual ao salário líquido mais a gratificação.\n",
        "\n",
        "  ```code\n",
        "  LEIA salario_minimo, numero_horas_trabalhadas, numero_dependentes, numero_horas_extras\n",
        "  \n",
        "  valor_hora = 1/5 * salario_minimo\n",
        "  salario_mes = numero_horas_trabalhadas * valor_hora\n",
        "  valor_dependentes = 32 * numero_dependentes\n",
        "  valor_hora_extra = numero_horas_extras * (valor_hora + (valor_hora * 50/100))\n",
        "  salario_bruto =salario_mes + valor_dependentes + valor_hora_extra\n",
        "  \n",
        "  SE salario_bruto < 200\n",
        "        imposto = 0\n",
        "  SENÃO SE salario_bruto >= 200 E salario_bruto <= 500\n",
        "        imposto = salario_bruto * 10/100\n",
        "  SENÃO SE salario_bruto > 500\n",
        "        imposto = salario_bruto * 20/100\n",
        "  salario_liquido = salario_bruto – imposto\n",
        "  SE salario_liquido <= 350\n",
        "        gratificacao = 100\n",
        "  SENÃO\n",
        "        gratificacao = 50\n",
        "  salario_a_receber = salario_liquido + gratificacao\n",
        "  \n",
        "  ESCREVA salario_a_receber\n",
        "  ```"
      ]
    },
    {
      "cell_type": "code",
      "metadata": {
        "id": "3eECKlHfxLK5",
        "colab": {
          "base_uri": "https://localhost:8080/"
        },
        "outputId": "407a5c13-ed86-4ef9-905b-0098c72a9eb6"
      },
      "source": [
        "salariominimo = float(input('Digite o valor do salário mínimo R$:'))\n",
        "horastrabalhadas = int(input('Insira a quantidade de horas trabalhadas: '))\n",
        "dependentes =  int(input('Insira a quantidade de dependentes: '))\n",
        "horasextras = int(input('Insira a quantidade de horas extras realizadas: '))\n",
        "valor_hora = 1 / 5 * salariominimo\n",
        "salario_mes = horastrabalhadas * valor_hora\n",
        "valor_dependentes = 32.00 * dependentes\n",
        "valor_horasextras = horasextras * (valor_hora + (valor_hora * 50 / 100))\n",
        "salario_bruto = salario_mes + valor_dependentes + valor_horasextras\n",
        "print(salario_bruto)\n",
        "if salario_bruto < 200.00:\n",
        "  imposto = 0.0\n",
        "elif salario_bruto >= 200.00 and salario_bruto <= 500.00:\n",
        "  imposto = salario_bruto * 10 / 100\n",
        "elif salario_bruto > 500.00:\n",
        "  imposto = salario_bruto * 20 / 100\n",
        "salario_liquido = salario_bruto - imposto\n",
        "print(salario_liquido)\n",
        "if salario_liquido <= 350.00:\n",
        "  gratificacao = 100.00\n",
        "else:\n",
        "  gratificacao = 100.00\n",
        "pagamento = salario_liquido + gratificacao\n",
        "print('Total a receber é R$', pagamento)"
      ],
      "execution_count": null,
      "outputs": [
        {
          "output_type": "stream",
          "name": "stdout",
          "text": [
            "Digite o valor do salário mínimo R$:1000\n",
            "Insira a quantidade de horas trabalhadas: 220\n",
            "Insira a quantidade de dependentes: 0\n",
            "Insira a quantidade de horas extras realizadas: 0\n",
            "44000.0\n",
            "35200.0\n",
            "Total a receber é R$ 35300.0\n"
          ]
        }
      ]
    },
    {
      "cell_type": "markdown",
      "metadata": {
        "id": "MuKRkPA9xLVE"
      },
      "source": [
        "### 22 Um supermercado deseja reajustar os preços de seus produtos usando o seguinte critério: o produto poderá ter seu preço aumentado ou diminuído. Para o preço ser alterado, o produto deve preencher pelo menos um dos requisitos a seguir:\n",
        "\n",
        "|VENDA MÉDIA MENSAL|PREÇO ATUAL|% DE AUMENTO|% DE DIMINUIÇÃO|\n",
        "|---|--|---|---|\n",
        "|< 500|<  30000|10|-|\n",
        "|\\>= 500 e <1200|\\>=  30.00 e <  80.00|15|-|\n",
        "|\\>= 1200|\\>=  80.00|-|20|\n",
        "\n",
        "* Faça um programa que receba o preço atual e a venda média mensal do produto, calcule e mostre o novo preço.\n",
        "\n",
        "```code\n",
        "LEIA preco_atual, media_mensal_vendas\n",
        "\n",
        "SE media_mensal_vendas < 500 OU preco_atual < 30\n",
        "    novo_preco = preco_atual + 10/100 * preco_atual\n",
        "SENÃO SE media_mensal_vendas >= 500 E media_mensal_vendas < 1200 OU preco_atual >= 30 E preco_atual<80\n",
        "    novo_preco = preco_atual + 15 / 100 * preco_atual\n",
        "SENÃO SE venda >= 1200 OU preco_atual >= 80\n",
        "    novo_preco = preco_atual – 20 / 100 * preco_atual\n",
        "      \n",
        "ESCREVA novo_preco\n",
        "```"
      ]
    },
    {
      "cell_type": "code",
      "metadata": {
        "id": "yzIzUTc7xNmr",
        "colab": {
          "base_uri": "https://localhost:8080/"
        },
        "outputId": "a7e1311e-2e83-46ba-a8d7-8cfc0255fd5b"
      },
      "source": [
        "preco_atual =  float(input('Digite o preço: '))\n",
        "media_mensal = int(input('Insira a média mensal de vendas: '))\n",
        "if media_mensal < 500 or preco_atual < 30:\n",
        "  novo_preco =  preco_atual + (10 / 100 * preco_atual)\n",
        "elif media_mensal >= 500 and media_mensal < 1200 or preco_atual >= 30 and preco_atual < 80:\n",
        "  novo_preco = preco_atual + (15 / 100 * preco_atual)\n",
        "elif media_mensal >= 1200 or preco_atual >= 80:\n",
        "  novo_preco = preco_atual - (20 / 100 * preco_atual)\n",
        "print('Novo preço é R$', novo_preco)"
      ],
      "execution_count": null,
      "outputs": [
        {
          "output_type": "stream",
          "name": "stdout",
          "text": [
            "Digite o preço: 35\n",
            "Insira a média mensal de vendas: 120\n",
            "Novo preço é R$ 38.5\n"
          ]
        }
      ]
    },
    {
      "cell_type": "markdown",
      "metadata": {
        "id": "z6uh_iRstn_T"
      },
      "source": [
        ""
      ]
    },
    {
      "cell_type": "markdown",
      "metadata": {
        "id": "X-eT0SRdxNwk"
      },
      "source": [
        "### 23. Faça um programa para resolver equações do 2 o grau.\n",
        "\n",
        "**ax² + bx + c = 0**\n",
        "\n",
        "A variável *a* deve ser diferente de zero*\n",
        "\n",
        "  * delta = b ** 2 - 4 * a * c\n",
        "  * delta < 0.  **Não existe raiz real**\n",
        "  * delta = 0. **Existe uma raiz real**\n",
        "    * x = (-b) / (2 * a)\n",
        "  * delta > 0. **Existem duas raízes reais**\n",
        "    * x1 = -b + raiz(delta)/ (2 * a)\n",
        "    * x2 = -b  - raiz(delta)/ (2 * a)\n",
        "\n",
        "```code\n",
        "LEIA a, b, c\n",
        "SE a = 0\n",
        "    ESCREVA “Estes valores não formam uma equação de segundo grau” \n",
        "SENÃO\n",
        "    delta = (b * b) – ( 4 * a * c)\n",
        "    SE delta < 0\n",
        "        ESCREVA “Não existe raiz real”\n",
        "    SE delta = 0\n",
        "        ESCREVA “Existe uma raiz real”\n",
        "        x1 = (– b) / (2 * a)\n",
        "        ESCREVA x1\n",
        "    SE delta > 0\n",
        "        ESCREVA “Existem duas raízes reais”\n",
        "        x1 = (– b) + raiz(delta) / (2 * a)\n",
        "        x2 = (– b) - raiz(delta) / (2 * a)\n",
        "        ESCREVA(x1, x2)\n",
        "```"
      ]
    },
    {
      "cell_type": "code",
      "metadata": {
        "id": "DAhDbbkaxTAS",
        "colab": {
          "base_uri": "https://localhost:8080/"
        },
        "outputId": "7fc530bf-fa45-4de0-ba08-49c1f1b88e57"
      },
      "source": [
        "import math\n",
        "print('Considere: ax + bx² + c = 0' '\\n' 'Entre com os valores de a, b e c:')\n",
        "a = int(input('a:'))\n",
        "b = int(input('b:'))\n",
        "c = int(input('c:'))\n",
        "if a == 0:\n",
        "  print('Impossível calcular!')\n",
        "else:\n",
        "  delta = (b * b) - (4 * a * c)\n",
        "  if delta < 0:\n",
        "    print('Não existe raiz real')\n",
        "  if delta == 0:\n",
        "    print('Existe uma raiz real')\n",
        "    x1 = (- b) + math.sqrt(delta) / (2 * a)\n",
        "    print('X =', x1)\n",
        "  if delta > 0:\n",
        "    print('Existem duas raízes reais')\n",
        "    x1 = (- b) + math.sqrt(delta) / (2 * a)\n",
        "    x2 = (- b) - math.sqrt(delta) / (2 * a)\n",
        "    print('x1 =', f'{x1:.2f}', 'X2=', f'{x2:.2f}')"
      ],
      "execution_count": null,
      "outputs": [
        {
          "output_type": "stream",
          "name": "stdout",
          "text": [
            "Considere: ax + bx² + c = 0\n",
            "Entre com os valores de a, b e c:\n",
            "a:1\n",
            "b:9\n",
            "c:3\n",
            "Existem duas raízes reais\n",
            "x1 = -4.85 X2= -13.15\n"
          ]
        }
      ]
    },
    {
      "cell_type": "markdown",
      "metadata": {
        "id": "PrDtckwwxTK6"
      },
      "source": [
        "### 24. Dados três valores X, Y e Z, verifique se eles podem ser os comprimentos dos lados de um triângulo e, se forem, verifique se é um triângulo equilátero, isósceles ou escaleno. Se eles não formarem um triângulo, escreva uma mensagem.\n",
        "Considere que:\n",
        "* o comprimento de cada lado de um triângulo é menor que a soma dos outros dois lados;\n",
        "* chama-se equilátero o triângulo que tem três lados iguais;\n",
        "* denomina-se isósceles o triângulo que tem o comprimento de dois lados iguais;\n",
        "* recebe o nome de escaleno o triângulo que tem os três lados diferentes.\n",
        "\n",
        "```code\n",
        "LEIA x, y, z\n",
        "SE x < y + z E y < x + z E z < x + y\n",
        "    SE x = y E y = z\n",
        "        ESCREVA “Triângulo Equilátero”\n",
        "    SENÃO SE x = y OU x = z OU y = z\n",
        "        ESCREVA “Triângulo Isósceles”\n",
        "    SENÃO SE x ≠ y E x ≠ z E y ≠ z\n",
        "        ESCREVA “Triângulo Escaleno”\n",
        "SENÃO\n",
        "    ESCREVA “Essas medidas não formam um triângulo”\n",
        "```"
      ]
    },
    {
      "cell_type": "code",
      "metadata": {
        "id": "72Ljhi6lxyco",
        "colab": {
          "base_uri": "https://localhost:8080/"
        },
        "outputId": "111bf77c-0b7b-40c4-f598-2e33009f7b31"
      },
      "source": [
        "print('Insira três números: x, y e z')\n",
        "x = int(input('x: '))\n",
        "y = int(input('y: '))\n",
        "z = int(input('z: '))\n",
        "if x < y + z and y < x + z and z < x + y:\n",
        "  if x == y and y == z:\n",
        "    print('Triângulo equilátero.')\n",
        "  elif x == y or y == z:\n",
        "    print('Triângulo i´soceles')\n",
        "  elif x != y and x != z and y != z:\n",
        "    print('Triângulo escaleno')\n",
        "else:\n",
        "    print('essas medidas não formam um triângulo')"
      ],
      "execution_count": null,
      "outputs": [
        {
          "output_type": "stream",
          "name": "stdout",
          "text": [
            "Insira três números: x, y e z\n",
            "x: 3\n",
            "y: 4\n",
            "z: 4\n",
            "Triângulo i´soceles\n"
          ]
        }
      ]
    },
    {
      "cell_type": "markdown",
      "metadata": {
        "id": "mCpnRwCvxymh"
      },
      "source": [
        "### 25. Faça um programa que receba a altura e peso de uma pessoa. De acordo com a tabela a seguir, verifique e mostre a classificação dessa pessoa.\n",
        "\n",
        "|ALTURA|ATÉ 60|ENTRE 60 E 90 (INCLUSIVE)|ACIMA DE 90|\n",
        "|---|---|---|---|\n",
        "|Menores que 1,20|A|D|G|\n",
        "|De 1,20 a 1,70|B|E|H|\n",
        "|Maiores que 1,70|C|F|I|\n",
        "\n",
        "```"
      ]
    },
    {
      "cell_type": "code",
      "metadata": {
        "id": "SXLzbTf6x4pi",
        "colab": {
          "base_uri": "https://localhost:8080/"
        },
        "outputId": "4fee390f-3140-4373-d26d-d2339f86f21b"
      },
      "source": [
        "altura = float(input('Entre com altura: '))\n",
        "peso = float(input('Entre com peso: '))\n",
        "if altura < 1.20:\n",
        "  if peso < 60:\n",
        "    print('A')\n",
        "  elif peso >= 60 and peso <= 90:\n",
        "    print('D')\n",
        "  elif peso > 90:\n",
        "    print('G')\n",
        "if altura >= 1.20 and altura <= 1.70:\n",
        "  if peso < 60:\n",
        "    print('B')\n",
        "  elif peso >= 60 and peso <= 90:\n",
        "    print('E')\n",
        "  elif peso > 90:\n",
        "    print('H')\n",
        "else:\n",
        "  if peso < 60:\n",
        "    print('C')\n",
        "  elif peso >= 60 and peso <= 90:\n",
        "    print('F')\n",
        "  elif peso > 90:\n",
        "    print('I')"
      ],
      "execution_count": null,
      "outputs": [
        {
          "output_type": "stream",
          "name": "stdout",
          "text": [
            "Entre com altura: 1.75\n",
            "Entre com peso: 75\n",
            "F\n"
          ]
        }
      ]
    },
    {
      "cell_type": "markdown",
      "metadata": {
        "id": "ydBS_HyAx40L"
      },
      "source": [
        "### 26. Faça um programa que receba:\n",
        "\n",
        "* O código de um produto comprado, supondo que a digitação do código do produto seja sempre válida, isto é, um número * inteiro entre 1 e 10.\n",
        "* O peso do produto em quilos.\n",
        "* O código do país de origem, supondo que a digitação do  código seja sempre válida, isto é, um número inteiro entre 1 e 3.\n",
        "\n",
        "|CÓDIGO DO PAÍS DE ORIGEM|IMPOSTO|\n",
        "|---|---|\n",
        "|1|0%|\n",
        "|2|15%|\n",
        "|3|25%|\n",
        "\n",
        "|CÓDIGO DO PAÍS DO PRODUTO|PREÇO POR GRAMA|\n",
        "|---|---|\n",
        "|1 a 4|10|\n",
        "|5 a 7|25|\n",
        "|8 a 10|35|\n",
        "\n",
        "Calcule e mostre:\n",
        "* o peso do produto convertido em gramas;\n",
        "* o preço total do produto comprado;\n",
        "* valor do imposto, sabendo que ele é cobrado sobre o * preço total do produto comprado e dependendo país de origem;\n",
        "* o valor total, preço total do produto mais imposto.\n"
      ]
    },
    {
      "cell_type": "code",
      "metadata": {
        "id": "hZvxJNadx7dp",
        "colab": {
          "base_uri": "https://localhost:8080/"
        },
        "outputId": "8d575afb-71f6-441f-9746-f1bd3b020272"
      },
      "source": [
        "codigo_produto = int(input('Insira o código do produto:'))\n",
        "peso_quilos = int(input('Insira o peso em KG:'))\n",
        "codigo_pais = int(input('Insira o código do pais de origem:'))\n",
        "peso_gramas = peso_quilos * 1000\n",
        "print('Peso em gramas:', peso_gramas)\n",
        "if codigo_produto <= 4:\n",
        "  preco_total = peso_gramas * 10\n",
        "  if codigo_pais == 1:\n",
        "    imposto = preco_total * 0 / 100\n",
        "    preco = preco_total + imposto\n",
        "    print('Valor total R$', preco_total, 'acrescido de imposto R$', preco)\n",
        "  elif codigo_pais == 2:\n",
        "    imposto = preco_total * 15 / 100\n",
        "    preco = preco_total + imposto\n",
        "    print('Valor total R$', preco_total, 'acrescido de imposto R$', preco)\n",
        "  elif codigo_pais == 3:\n",
        "    imposto = preco_total * 25 / 100\n",
        "    preco = preco_total + imposto\n",
        "    print('Valor total R$', preco_total, 'acrescido de imposto R$', preco)\n",
        "if codigo_produto <= 7 and codigo_produto >= 5:\n",
        "  preco_total = peso_gramas * 25\n",
        "  if codigo_pais == 1:\n",
        "    imposto = 0.0\n",
        "    preco = preco_total + imposto\n",
        "    print('Valor total R$', preco_total, 'acrescido de imposto R$', preco)\n",
        "  elif codigo_pais == 2:\n",
        "    imposto = preco_total * 15 / 100\n",
        "    preco = preco_total + imposto\n",
        "    print('Valor total R$', preco_total, 'acrescido de imposto R$', preco)\n",
        "  elif codigo_pais == 3:\n",
        "    imposto = preco_total * 25 / 100\n",
        "    preco = preco_total + imposto\n",
        "    print('Valor total R$', preco_total, 'acrescido de imposto R$', preco)\n",
        "if codigo_produto <= 10 and codigo_produto >= 8:\n",
        "  preco_total = peso_gramas * 35\n",
        "  if codigo_pais == 1:\n",
        "    imposto = 0.0\n",
        "    preco = preco_total + imposto\n",
        "    print('Valor total R$', preco_total, 'acrescido de imposto R$', preco)\n",
        "  elif codigo_pais == 2:\n",
        "    imposto = preco_total * 15 / 100\n",
        "    preco = preco_total + imposto\n",
        "    print('Valor total R$', preco_total, 'acrescido de imposto R$', preco)\n",
        "  elif codigo_pais == 3:\n",
        "    imposto = preco_total * 25 / 100\n",
        "    preco = preco_total + imposto\n",
        "    print('Valor total R$', preco_total, 'acrescido de imposto R$', preco)\n"
      ],
      "execution_count": null,
      "outputs": [
        {
          "output_type": "stream",
          "name": "stdout",
          "text": [
            "Insira o código do produto:4\n",
            "Insira o peso em KG:1\n",
            "Insira o código do pais de origem:2\n",
            "Peso em gramas: 1000\n",
            "Valor total R$ 10000 acrescido de imposto R$ 11500.0\n"
          ]
        }
      ]
    },
    {
      "cell_type": "markdown",
      "metadata": {
        "id": "XyWancSmx7l5"
      },
      "source": [
        "### 27. Faça um programa que receba:\n",
        "* o código do estado de origem da carga de um caminhão, supondo que a digitação do código do estado seja sempre válida, isto é, um número inteiro entre 1 e 5;\n",
        "* o peso da carga do caminhão em toneladas;\n",
        "* o código da carga, supondo que a digitação do código seja sempre válida, isto é, um número inteiro entre 10 e 40.\n",
        "\n",
        "| CÓDIGO DO ESTADO| IMPOSTO|\n",
        "|---|---|\n",
        "|1|35%|\n",
        "|2|25%|\n",
        "|3|15%|\n",
        "|4|5%|\n",
        "|5|Isento|\n",
        ">\n",
        "CÓDIGO DA CARGA|PREÇO POR QUILO\n",
        "---|---\n",
        "10 a 20|100\n",
        "21 a 30|250\n",
        "31 a 40|400\n",
        "\n",
        "Calcule e mostre:\n",
        "* o peso da carga do caminhão convertido em quilos;\n",
        "* o preço da carga do caminhão;\n",
        "* o valor do imposto, sabendo que o imposto é cobrado sobre o preço da carga do caminhão e depende do estado de origem;\n",
        "* o valor total transportado pelo caminhão, preço da carga mais imposto.\n",
        "\n",
        "```\n",
        "\n",
        "```"
      ]
    },
    {
      "cell_type": "code",
      "metadata": {
        "id": "JCjrCJ9Gx8X3",
        "colab": {
          "base_uri": "https://localhost:8080/"
        },
        "outputId": "671cb6d0-3329-471e-f401-e78342dc725c"
      },
      "source": [
        "codigo_estado = int(input('Entre com o código do estado:'))\n",
        "peso_em_toneladas = int(input('Entra com o peso em ton:'))\n",
        "codigo_carga = int(input('Entre com o código da carga:'))\n",
        "peso_em_quilos = peso_em_toneladas * 1000\n",
        "print('Peso em Kg:', peso_em_quilos)\n",
        "if codigo_carga >= 10 and codigo_carga <= 20:\n",
        "  preco_da_carga = 100 * peso_em_quilos\n",
        "  print('O preço é R$:',preco_da_carga)\n",
        "elif codigo_carga >= 21 and codigo_carga <= 30:\n",
        "  preco_da_carga = 250 * peso_em_quilos\n",
        "  print('O preço é R$:',preco_da_carga)\n",
        "elif codigo_carga >= 31 and codigo_carga <= 40:\n",
        "  preco_da_carga = 400 * peso_em_quilos   \n",
        "  print('O preço é R$:',preco_da_carga)\n",
        "if codigo_estado == 1:\n",
        "  imposto = preco_da_carga * 35 / 100\n",
        "  print('O imposto é de R$:', imposto)\n",
        "elif codigo_estado == 2:\n",
        "  imposto = 25/100 * preco_da_carga\n",
        "  print('O imposto é de R$:', imposto)\n",
        "elif codigo_estado == 3:\n",
        "  imposto = 15/100 * preco_ds_carga\n",
        "  print('O imposto é de R$:', imposto)\n",
        "elif codigo_estado == 4:\n",
        "  imposto = 5/100 * preco_da_carga\n",
        "  print('O imposto é de R$:', imposto)\n",
        "elif codigo_estado == 5:\n",
        "  imposto = 0\n",
        "  print('O imposto é de R$:', imposto)\n",
        "\n",
        "valor_total = preco_da_carga + imposto\n",
        "print('O valor Total é R$', valor_total)"
      ],
      "execution_count": null,
      "outputs": [
        {
          "output_type": "stream",
          "name": "stdout",
          "text": [
            "Entre com o código do estado:1\n",
            "Entra com o peso em ton:10\n",
            "Entre com o código da carga:10\n",
            "Peso em Kg: 10000\n",
            "O preço é R$: 1000000\n",
            "O imposto é de R$: 350000.0\n",
            "O valor Total é R$ 1350000.0\n"
          ]
        }
      ]
    },
    {
      "cell_type": "markdown",
      "metadata": {
        "id": "bBmw7JBQx8iH"
      },
      "source": [
        "### 28. Faça um programa que receba o salário base e o tempo de serviço de um funcionário. Calcule e mostre:\n",
        "* O imposto, conforme a tabela a seguir.\n",
        "\n",
        "|SALÁRIO BASE|% SOBRE O SALÁRIO BASE|\n",
        "|---|---|\n",
        "|< 200|isento|\n",
        "|>= 250 E <= 450|3%|\n",
        "|>  450 E < 700|8%|\n",
        "|>=  700|12%|\n",
        "\n",
        "* A gratificação, de acordo com a tabela a seguir.\n",
        "\n",
        "SALÁRIO BASE R$|TEMPO DE SERVIÇO|GRATIFICAÇÃO\n",
        "---|---|---\n",
        "Superior a 500,00|Até 3 anos|20\n",
        " | Mais de 3 anos|30\n",
        "  --------------------------|---------|--------------\n",
        "Até 500,00|Até 3 anos|23\n",
        "|Entre 3 e 6 anos|35\n",
        "|Acima de 6 anos|33\n",
        "\n",
        "* O salário líquido, ou seja, salário base menos imposto mais gratificação.\n",
        "* A categoria, que está na tabela a seguir.\n",
        "\n",
        "```\n",
        "\n",
        "```"
      ]
    },
    {
      "cell_type": "code",
      "metadata": {
        "id": "xhj04HVix_LL",
        "colab": {
          "base_uri": "https://localhost:8080/"
        },
        "outputId": "eeda931b-830f-44ba-e5d4-2f00a3b388f1"
      },
      "source": [
        "salario = float(input('Insira o valor de salário: '))\n",
        "tempo = int(input('Entre com o tempo de serviço em anos: '))\n",
        "if salario < 200:\n",
        "    imposto = 0\n",
        "    print('Valor do imposto: ISENTO')\n",
        "elif salario >= 200 and salario <= 450:\n",
        "    imposto = salario * 3 / 100\n",
        "    print('Valor do imposto R$', imposto)\n",
        "elif salario > 450 and salario < 700:\n",
        "    imposto = salario * 8 / 100\n",
        "    print('Valor do imposto R$', imposto)\n",
        "else:\n",
        "    imposto = salario * 12 / 100\n",
        "    print('Valor do imposto R$', imposto)\n",
        "if salario > 500 and tempo <= 3:\n",
        "    gratificacao = salario * 20 / 100\n",
        "    print('Valor da gratificacao', gratificacao)\n",
        "elif salario > 500 and tempo > 3:\n",
        "    gratificacao = salario * 30 / 100\n",
        "    print('Valor da gratificacao', gratificacao)\n",
        "elif salario <= 500 and tempo <= 3:\n",
        "    gratificacao = salario * 23 / 100\n",
        "    print('Valor da gratificacao', gratificacao)\n",
        "elif salario <= 500 and tempo > 3 and tempo <= 6:\n",
        "    gratificacao = salario * 35 / 100\n",
        "    print('Valor da gratificacao', gratificacao)\n",
        "elif salario <= 500 and tempo > 6:\n",
        "    gratificacao = salario * 30 / 100\n",
        "    print('Valor da gratificacao', gratificacao)\n",
        "\n",
        "salario_liquido = salario - imposto + gratificacao\n",
        "\n",
        "print('Salário líquido de R$', salario_liquido)"
      ],
      "execution_count": null,
      "outputs": [
        {
          "output_type": "stream",
          "name": "stdout",
          "text": [
            "Insira o valor de salário: 700\n",
            "Entre com o tempo de serviço em anos: 8\n",
            "Valor do imposto R$ 84.0\n",
            "Valor da gratificacao 210.0\n",
            "Salário líquido de R$ 826.0\n"
          ]
        }
      ]
    },
    {
      "cell_type": "markdown",
      "metadata": {
        "id": "HdSARhTlx_VV"
      },
      "source": [
        "### 29. Faça um programa que:\n",
        "* receba o valor do salário mínimo,\n",
        "* o turno de trabalho (M — matutino; V — vespertino; ou N — noturno),\n",
        "* a categoria (O — operário; G — gerente) \n",
        "* número de horas trabalhadas no mês de um funcionário. \n",
        "\n",
        "*Suponha a digitação apenas de dados válidos e, quando houver digitação de letras, utilize maiúsculas.*\n",
        "\n",
        "**Calcule e mostre:**\n",
        "\n",
        "* O coeficiente do salário, de acordo com a tabela a seguir.\n",
        "\n",
        "TURNO DE TRABALHO|VALOR DO COEFICIENTE\n",
        "---|---\n",
        "M - Matutino|10% do salário mínimo\n",
        "V - Vespertino|15% do salário mínimo\n",
        "N - Noturno|20% do salário mínimo\n",
        "\n",
        "* O valor do salário bruto, ou seja, o número de horas trabalhadas multiplicado pelo valor do coeficiente do salário.\n",
        "\n",
        "* O imposto, de acordo com a tabela a seguir.\n",
        "\n",
        "CATEGORIA| SALÁRIO BRUTO|IMPOSTO SOBRE O SALÁRIO BRUTO\n",
        "---|---|---\n",
        "O - Operário|>= 300,00|5%\n",
        "O - Operário|< 300,00|3%\n",
        "G - Gerente|>= 300,00|6%\n",
        "G - Gerente|< 300,00|4%\n",
        "\n",
        "* A gratificação, de acordo com as regras a seguir. Se o funcionário preencher todos os requisitos a seguir, sua gratificação será de 50,00; caso contrário, será de 30,00. Os requisitos são:\n",
        " * Turno: Noturno\n",
        "  * Número de horas trabalhadas: Superior a 80 horas\n",
        "  * O auxílio alimentação, de acordo com as seguintes regras.\n",
        "* Auxilio alimentação, um terço do seu salário bruto; caso contrário, será de metade do seu salário bruto. Os requisitos são:\n",
        "  * Se o funcionário preencher algum dos requisitos a seguir, seu auxílio alimentação será de \n",
        "  * Categoria: Operário\n",
        "  * Coeficiente do salário: < = 25\n",
        "* O salário líquido, ou seja, salário bruto menos imposto mais gratificação mais auxílio alimentação.\n",
        "* A classificação, de acordo com a tabela a seguir:\n",
        "\n",
        "SALÁRIO LÍQUIDO|MENSAGEM\n",
        "---|---\n",
        "Menor que 350,00|Mal remunerado\n",
        "Entre 350 e 600,00|Normal\n",
        "Maior que 600,00|Bem remunerado\n",
        "\n",
        "```\n",
        "\n",
        "```"
      ]
    },
    {
      "cell_type": "code",
      "metadata": {
        "id": "RxtqQbAIyC54",
        "colab": {
          "base_uri": "https://localhost:8080/",
          "height": 398
        },
        "outputId": "28f53093-679d-493f-b177-577bbe51b5c8"
      },
      "source": [
        "salario_minimo = float(input('Entre com o valor do salário mínimo R$: '))\n",
        "print('Turno de trabalho: (M — matutino; V — vespertino; ou N — noturno),')\n",
        "turno = input('Entre com o turno de trabalho: ')\n",
        "print('Categoria:  (O — operário; G — gerente)')\n",
        "categoria = input('Entre com a categoria: ')\n",
        "horas_trabalhadas = int(input('Insira a quantidade de horas trabalhadas no mês: '))\n",
        "if turno == 'M' or turno == 'm':\n",
        "  quoeficiente = salario_minimo * 10 / 100\n",
        "  print('Quoeficiente equivale a R$:', quoeficiente)\n",
        "elif turno == 'V' or turno == 'v':\n",
        "  quoeficiente = salario_minimo * 15 / 100\n",
        "  print('Quoeficiente equivale a R$:', quoeficiente)\n",
        "elif turno =='N' or turno =='n':\n",
        "  quoeficiente = salario_minimo * 20 / 100\n",
        "  print('Quoeficiente equivale a R$:', quoeficiente)\n",
        "salario_bruto = horas_trabalhadas * quoeficiente\n",
        "print('Salário bruto R$', salario_bruto)\n",
        "if (categoria == 'O' or categoria == 'o') and salario_bruto >= 300:\n",
        "  imposto = salario_bruto * 5 / 100\n",
        "elif (categoria == 'O' or categoria == 'o') and salario_bruto < 300:\n",
        "  imposto = salario_bruto * 3 / 100\n",
        "elif (categoria == 'G' or categoria == 'g') and salario_bruto >= 300:\n",
        "  imposto = salario_bruto * 6 / 100\n",
        "elif (categoria =='G' or categoria == 'g') and salario_bruto < 300:\n",
        "  imposto = salario_bruto * 4 / 100\n",
        "print('Imposto R$', imposto)\n",
        "if (turno == 'N' or turno == 'n') and (horas_trabalhadas > 80):\n",
        "    gratificacao = 50\n",
        "else:\n",
        "    gratificacao = 30\n",
        "if (categoria == 'O' or categoria == 'o') and (quoeficiente <= 25):\n",
        "    alimentacao = salario_bruto / 3\n",
        "else:\n",
        "    alimentacao = salario_bruto / 2\n",
        "\n",
        "salario_liquido = salario_bruto + gratificacao + alimentacao - imposto\n",
        "\n",
        "if salario_liquido < 350:\n",
        "    print('Mal remunerado')\n",
        "elif salario_liquido >= 350 and salario_liquido <= 600:\n",
        "    print('Normal')\n",
        "else:\n",
        "    print('Bem remunerado')"
      ],
      "execution_count": null,
      "outputs": [
        {
          "output_type": "stream",
          "name": "stdout",
          "text": [
            "Entre com o valor do salário mínimo R$: 1100\n",
            "Turno de trabalho: (M — matutino; V — vespertino; ou N — noturno),\n",
            "Entre com o turno de trabalho: V\n",
            "Categoria:  (O — operário; G — gerente)\n",
            "Entre com a categoria: O\n",
            "Insira a quantidade de horas trabalhadas no mês: 79\n",
            "Quoeficiente equivale a R$: 165.0\n",
            "Salário bruto R$ 13035.0\n",
            "Imposto R$ 651.75\n"
          ]
        },
        {
          "output_type": "error",
          "ename": "NameError",
          "evalue": "ignored",
          "traceback": [
            "\u001b[0;31m---------------------------------------------------------------------------\u001b[0m",
            "\u001b[0;31mNameError\u001b[0m                                 Traceback (most recent call last)",
            "\u001b[0;32m<ipython-input-4-eaab2c9e75c5>\u001b[0m in \u001b[0;36m<module>\u001b[0;34m()\u001b[0m\n\u001b[1;32m     39\u001b[0m       \u001b[0;31m#salario_liquido = salario_bruto - imposto + gratificacao + alimentacao\u001b[0m\u001b[0;34m\u001b[0m\u001b[0;34m\u001b[0m\u001b[0;34m\u001b[0m\u001b[0m\n\u001b[1;32m     40\u001b[0m       \u001b[0mprint\u001b[0m\u001b[0;34m(\u001b[0m\u001b[0;34m'Salário líquido R$'\u001b[0m\u001b[0;34m,\u001b[0m \u001b[0msalario_liquido\u001b[0m\u001b[0;34m)\u001b[0m\u001b[0;34m\u001b[0m\u001b[0;34m\u001b[0m\u001b[0m\n\u001b[0;32m---> 41\u001b[0;31m \u001b[0msalario_liquido\u001b[0m \u001b[0;34m=\u001b[0m \u001b[0msalario_bruto\u001b[0m \u001b[0;34m-\u001b[0m \u001b[0mimposto\u001b[0m \u001b[0;34m+\u001b[0m \u001b[0mgratificacao\u001b[0m \u001b[0;34m+\u001b[0m \u001b[0malimentacao\u001b[0m\u001b[0;34m\u001b[0m\u001b[0;34m\u001b[0m\u001b[0m\n\u001b[0m\u001b[1;32m     42\u001b[0m \u001b[0;32mif\u001b[0m \u001b[0msalario_liquido\u001b[0m \u001b[0;34m<\u001b[0m \u001b[0;36m350\u001b[0m\u001b[0;34m:\u001b[0m\u001b[0;34m\u001b[0m\u001b[0;34m\u001b[0m\u001b[0m\n\u001b[1;32m     43\u001b[0m     \u001b[0mprint\u001b[0m\u001b[0;34m(\u001b[0m\u001b[0;34m'Mal remunerado'\u001b[0m\u001b[0;34m)\u001b[0m\u001b[0;34m\u001b[0m\u001b[0;34m\u001b[0m\u001b[0m\n",
            "\u001b[0;31mNameError\u001b[0m: name 'alimentacao' is not defined"
          ]
        }
      ]
    },
    {
      "cell_type": "markdown",
      "metadata": {
        "id": "c2dARliMyDDG"
      },
      "source": [
        "### 30. Faça um programa que receba de um produto:\n",
        "* o preço\n",
        "* o tipo (A — alimentação; L — limpeza; e V — vestuário)\n",
        "* a refrigeração (S — produto que necessita de refrigeração; e N — produto que não necessita de refrigeração) .\n",
        "\n",
        "**Suponha que haverá apenas a digitação de dados válidos e, quando houver digitação de letras, utilize maiúsculas. Calcule e mostre:**\n",
        "\n",
        "* O valor adicional, de acordo com a tabela a seguir:\n",
        "\n",
        "REFRIGERAÇÃO|TIPO|PREÇO|VALOR ADICIONAL\n",
        "---|---|---|---\n",
        "N|A|<  15,00|2,00|\n",
        " | |>= 15,00|5,00|\n",
        " |---------|--------------|-------------------------------\n",
        " |L|< 10,00|1,50\n",
        " | |>= 10,00|2,50\n",
        "  |---------|--------------|-------------------------------\n",
        " |V|< 30,00|3,00\n",
        " ||>= 30,00|2,50\n",
        "  --------------------------|---------|--------------|-------------------------------\n",
        "S|A||8,00\n",
        "|L||0,00\n",
        "|V||0,00\n",
        "\n",
        "* O valor do imposto, de acordo com a regra a seguir.\n",
        "\n",
        "PREÇO|PERCENTUAL SOBRE O PREÇO\n",
        "---|---\n",
        "< 25,00|5%\n",
        ">= 25,00|8%\n",
        "\n",
        "O preço de custo, ou seja, preço mais imposto.\n",
        "O desconto, de acordo com a regra a seguir.\n",
        "\n",
        "O produto que não preencher nenhum dos requisitos a seguir terá desconto de 3%, caso contrário, 0 (zero). Os requisitos são:\n",
        "* Tipo: A\n",
        "* Refrigeração: S\n",
        "\n",
        "* O novo preço, ou seja, preço de custo mais adicional menos desconto.\n",
        "* A classificação, de acordo com a regra a seguir.\n",
        "\n",
        "NOVO PREÇO|CLASSIFICAÇÃO\n",
        "---|---\n",
        "<= 50,00|Barato\n",
        "Entre 50,00 e 100,00|Normal\n",
        ">= 100,00|Caro\n",
        "\n",
        "\n"
      ]
    },
    {
      "cell_type": "code",
      "metadata": {
        "id": "2MKheAJMyGc5",
        "colab": {
          "base_uri": "https://localhost:8080/"
        },
        "outputId": "feddedd7-fb2f-48d0-86b3-19cb87904b9b"
      },
      "source": [
        "preco = float(input('Entre com o preço R$'))\n",
        "tipo = input('Entre com o tipo: A- alimentação; L- limpeza; V- vestuário: ')\n",
        "refrigeracao = input('Necessita de refrigeração? (S/N): ')\n",
        "if refrigeracao == 'N' or refrigeracao == 'n':\n",
        "  if tipo == 'A' and preco < 15.00: \n",
        "    adicional = 2.00\n",
        "    print('Valor adicional R$', adicional)\n",
        "  elif tipo == 'A' and preco >= 15.00:\n",
        "    adicional = 5.00\n",
        "    print('Valor adicional R$', adicional)\n",
        "  if tipo == 'L' and preco < 10.00:\n",
        "    adicional = 1.50\n",
        "    print('Valor adicional R$', adicional)\n",
        "  elif tipo == 'L' and preco >= 10.00:\n",
        "    adicional = 2.50\n",
        "    print('Valor adicional R$', adicional)\n",
        "  if tipo == 'V' and preco < 30.00:\n",
        "    adicional = 3.00\n",
        "    print('Valor adicional R$', adicional)\n",
        "  elif tipo == 'V' and preco >= 30.00:\n",
        "    adicional = 2.50\n",
        "    print('Valor adicional R$', adicional)\n",
        "\n",
        "if (refrigeracao == 'S' or refrigeracao == 's') and tipo == 'A':\n",
        "  adicional = 8.00\n",
        "  print('Valor adicional R$', adicional)\n",
        "if preco < 25.00:\n",
        "  imposto = preco * 5 / 100\n",
        "if preco >= 25.00:\n",
        "  imposto = preco * 8 / 100\n",
        "custo = preco + adicional + imposto \n",
        "print('Custo é R$', custo)\n",
        "# desconto\n",
        "if tipo == 'A' and refrigeracao == 'S' or refrigeracao == 's':\n",
        "  desconto = 0\n",
        "  print('Desconto de R$', desconto)\n",
        "else:\n",
        "  desconto = custo * 3 / 100\n",
        "  print('Desconto de R$', desconto)\n",
        "novocusto = preco + adicional + imposto - desconto\n",
        "print('O custo total é R$', novocusto)\n",
        "if novocusto <= 50.00:\n",
        "  print('Barato')\n",
        "elif novocusto > 50.00 and novocusto < 100.00:\n",
        "  print('Normal')\n",
        "else:\n",
        "  print('Caro')"
      ],
      "execution_count": null,
      "outputs": [
        {
          "output_type": "stream",
          "name": "stdout",
          "text": [
            "Entre com o preço R$15\n",
            "Entre com o tipo: A- alimentação; L- limpeza; V- vestuário: A\n",
            "Necessita de refrigeração? (S/N): S\n",
            "Valor adicional R$ 8.0\n",
            "Custo é R$ 23.75\n",
            "Desconto de R$ 0\n",
            "O custo total é R$ 23.75\n",
            "Barato\n"
          ]
        }
      ]
    },
    {
      "cell_type": "markdown",
      "metadata": {
        "id": "L-VOnT4CyGl8"
      },
      "source": [
        "### 31. Faça um programa que receba a medida de um ângulo em graus. Calcule e mostre o quadrante em que se localiza esse ângulo. Considere os quadrantes da trigonometria e, para ângulos maiores que 360° ou menores que −360o, reduzí-los, mostrando também o número de voltas e o sentido da volta (horário ou anti-horário).\n",
        "```\n",
        "SE angulo > 360 OU angulo < -360\n",
        "    voltas = parte inteira(angulo / 360)    \n",
        "    angulo = RESTO(angulo / 360)\n",
        "SENÃO \n",
        "    voltas = 0\n",
        "SE angulo = 0 OU angulo = 90 OU angulo = 180\n",
        "           OU angulo = 270 OU angulo = 360\n",
        "           OU angulo = -90 OU angulo = -180\n",
        "           OU angulo = -270 OU angulo = -360\n",
        "  ESCREVA “Está em cima de algum dos eixos”\n",
        "  SE (angulo > 0 E angulo < 90) OU (angulo < -270 E angulo > -360)\n",
        "    ESCREVA “1o Quadrante”\n",
        "  SENÃO SE (angulo > 90 E angulo < 180) OU (angulo < -180 E angulo > -270)\n",
        "    ESCREVA “2o Quadrante”\n",
        "  SENÃO SE (angulo > 180 E angulo < 270) OU (angulo < -90 E angulo > -180)\n",
        "    ESCREVA “3o Quadrante”\n",
        "  SENÃO SE (angulo > 270 E angulo < 360) OU (angulo < 0 E angulo > -90)\n",
        "    ESCREVA “4o Quadrante”\n",
        "  ESCREVA voltas, “ volta(s) no sentido “\n",
        "SE angulo < 0\n",
        "    ESCREVA “horário”\n",
        "SENÃO \n",
        "    ESCREVA “anti-horário”\n",
        "```"
      ]
    },
    {
      "cell_type": "code",
      "metadata": {
        "id": "GjkV8-vWyJWb",
        "colab": {
          "base_uri": "https://localhost:8080/"
        },
        "outputId": "0e3bf4b4-9226-4f1c-e2e5-9203d3db6607"
      },
      "source": [
        "angulo = int(input('Insira um ângulo: '))\n",
        "if angulo > 360 or angulo < -360:\n",
        "  voltas = int(angulo / 360)\n",
        "  angulo = angulo % 360\n",
        "else:\n",
        "  voltas = 0\n",
        "if angulo == 0 or angulo == 90 or angulo == 180 or angulo == 270 or angulo == 360 or angulo == -90 or angulo == -180 or angulo == -270 or angulo == -360:\n",
        "  print('Ângulo está em cima de algum dos eixos')\n",
        "if (angulo > 0 and angulo < 90) or (angulo < -270 and angulo > -360):\n",
        "  print('1º quadrante')\n",
        "elif (angulo > 90 and angulo < 180) or (angulo < -180 and angulo > -270):\n",
        "  print('2º quadrante')\n",
        "elif (angulo > 180 and angulo < 270) or (angulo < -90 and angulo > -180):\n",
        "  print('3º quadrante')\n",
        "elif (angulo > 270 and angulo < 360) or (angulo < 0 and angulo > -90):\n",
        "  print('4º quadrante')\n",
        "print(voltas, 'volta(s) no sentido')\n",
        "if angulo > 0:\n",
        "  print('horário')\n",
        "else:\n",
        "  print('anti-horário')"
      ],
      "execution_count": null,
      "outputs": [
        {
          "output_type": "stream",
          "name": "stdout",
          "text": [
            "Insira um ângulo: -9000\n",
            "Ângulo está em cima de algum dos eixos\n",
            "-25 volta(s) no sentido\n",
            "anti-horário\n"
          ]
        }
      ]
    }
  ]
}