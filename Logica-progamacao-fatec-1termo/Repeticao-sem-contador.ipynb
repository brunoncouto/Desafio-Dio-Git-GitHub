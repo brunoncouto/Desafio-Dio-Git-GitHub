{
  "nbformat": 4,
  "nbformat_minor": 0,
  "metadata": {
    "colab": {
      "name": "Bruno Couto - 212_Est_Rep_SemContador_n.ipynb",
      "provenance": [],
      "collapsed_sections": []
    },
    "kernelspec": {
      "name": "python3",
      "display_name": "Python 3"
    }
  },
  "cells": [
    {
      "cell_type": "markdown",
      "metadata": {
        "id": "E64RcqHIMXAS"
      },
      "source": [
        "### **EXERCÍCIOS DE ESTRUTURA DE REPETIÇÃO SEM CONTADOR**\n"
      ]
    },
    {
      "cell_type": "markdown",
      "metadata": {
        "id": "_q0kBpMGMbRF"
      },
      "source": [
        "###1. Construir um algoritmo para calcular e apresentar o total de salários pagos de funcionários, mas não é informado a quantidade de pessoas, então use como critério de parada (condição da estrutura de repetição, digitar zero no salário para sair.\n"
      ]
    },
    {
      "cell_type": "code",
      "metadata": {
        "id": "uLE2w6-aMadI"
      },
      "source": [
        "salario = float(input('Informe o salário e para sair digite zero: '));\n",
        "total = 0;\n",
        "while salario > 0:\n",
        "\n",
        "  total = total + salario;\n",
        "  salario = float(input('Informe o salário e para sair digite zero.....: '));\n",
        "print(f'O total de salário pagos foi R$ {total:.2f}');"
      ],
      "execution_count": null,
      "outputs": []
    },
    {
      "cell_type": "markdown",
      "metadata": {
        "id": "y7gc7ImtKBee"
      },
      "source": [
        "###2. Faça um programa que receba a altura de 5 pessoas. Encontre e apresente a altura da pessoa mais alta e da mais baixa."
      ]
    },
    {
      "cell_type": "code",
      "metadata": {
        "id": "r3DxVv2mKIcR"
      },
      "source": [
        "pessoas = 0;\n",
        "while pessoas < 5:\n",
        "  altura = float(input('Informe a altura: '));\n",
        "  if pessoas == 0:\n",
        "    alto = altura;\n",
        "    baixa = altura;\n",
        "  if altura >= alto:\n",
        "    alto = altura;\n",
        "  if altura <= baixa:\n",
        "    baixa = altura;\n",
        "pessoas = pessoas + 1;\n",
        "\n",
        "print(f'Pessoa mais alta tem {alto:.2f} metros');\n",
        "\n",
        "print(f'Pessoa mais baixa tem {baixa:.2f} metros');\n"
      ],
      "execution_count": null,
      "outputs": []
    },
    {
      "cell_type": "markdown",
      "metadata": {
        "id": "Dk1zCWGbJezq"
      },
      "source": [
        "###3. Faça um programa que receba a altura de várias pessoas. Encontre e apresente a altura da pessoa mais alta e da mais baixa. Para encerrar a entrada de dados, zero na altura, mas esta não poderá ser considerada como resposta da altura da pessoa mais baixa.\n"
      ]
    },
    {
      "cell_type": "code",
      "metadata": {
        "colab": {
          "base_uri": "https://localhost:8080/"
        },
        "id": "zM2U0lpASivH",
        "outputId": "ed55cdf6-ae3b-4965-b698-c8720deec08d"
      },
      "source": [
        "altura = float(input('Insira uma altura '));\n",
        "alto = altura;\n",
        "baixo = altura;\n",
        "while altura > 0:\n",
        "   if altura >= alto:\n",
        "     alto = altura;\n",
        "   if altura <= baixo:\n",
        "     baixo = altura;\n",
        "   altura = float(input('Insira uma altura '));\n",
        "print(f'A pessoa mais alta tem {alto:.2f} metros');\n",
        "print(f'A pessoa mais baixa tem {baixo:.2f} metros');"
      ],
      "execution_count": null,
      "outputs": [
        {
          "output_type": "stream",
          "name": "stdout",
          "text": [
            "Insira uma altura 1.90\n",
            "Insira uma altura 1.80\n",
            "Insira uma altura 1.76\n",
            "Insira uma altura 1.92\n",
            "Insira uma altura 0\n",
            "A pessoa mais alta tem 1.92 metros\n",
            "A pessoa mais baixa tem 1.76 metros\n"
          ]
        }
      ]
    },
    {
      "cell_type": "markdown",
      "metadata": {
        "id": "IphgVY0ZSUS3"
      },
      "source": [
        "###3a. Faça um programa que receba a altura e o nome de várias pessoas. Encontre e apresente a altura da pessoa mais alta e da mais baixa. Para encerrar a entrada de dados, zero na altura, mas esta não poderá ser considerada como resposta da altura da pessoa mais baixa."
      ]
    },
    {
      "cell_type": "code",
      "metadata": {
        "id": "C-W0c_6rKKwh",
        "colab": {
          "base_uri": "https://localhost:8080/"
        },
        "outputId": "da76ef07-0ac4-4b1d-bf14-cc0f19649901"
      },
      "source": [
        "altura = float(input('Insira uma altura '));\n",
        "alto = altura;\n",
        "baixo = altura;\n",
        "while altura > 0:\n",
        "  nome = input('Insira o nome: ');\n",
        "  if altura >= alto:\n",
        "    alto = altura;\n",
        "    nome_alto = nome;\n",
        "  if altura <= baixo:\n",
        "    baixo = altura;\n",
        "    nome_baixo = nome;\n",
        "  altura = float(input('Insira uma altura '));\n",
        "print(f'{nome_alto} é a pessoa mais alta e tem {alto:.2f} metros');\n",
        "print(f'{nome_baixo} é a pessoa mais baixa e tem {baixo:.2f} metros');"
      ],
      "execution_count": null,
      "outputs": [
        {
          "output_type": "stream",
          "name": "stdout",
          "text": [
            "Insira uma altura 1.90\n",
            "Insira o nome: Joao\n",
            "Insira uma altura 1.83\n",
            "Insira o nome: Nubia\n",
            "Insira uma altura 1.98\n",
            "Insira o nome: ANa\n",
            "Insira uma altura 154\n",
            "Insira o nome: Ricardo\n",
            "Insira uma altura 0\n",
            "Ricardo é a pessoa mais alta e tem 154.00 metros\n",
            "Nubia é a pessoa mais baixa e tem 1.83 metros\n"
          ]
        }
      ]
    },
    {
      "cell_type": "markdown",
      "metadata": {
        "id": "mWl0IWlJNEtA"
      },
      "source": [
        "###4. Faça um programa que receba a idade e a altura de várias pessoas. Calcule e exiba a média das alturas das pessoas com mais de 20 anos. Para encerrar a entrada de dados, digite uma idade negativa ou igual a zero.\n",
        "\n",
        "\n"
      ]
    },
    {
      "cell_type": "code",
      "metadata": {
        "id": "IcSBSaDV8sO_",
        "colab": {
          "base_uri": "https://localhost:8080/"
        },
        "outputId": "401967e1-1dac-4e22-d1f0-e9c01cc8f45a"
      },
      "source": [
        "idade = int(input('Insira uma idade '));\n",
        "while idade > 0:\n",
        "  mediaalt = altura;\n",
        "  media = 1;\n",
        "  altura = float(input('Insira uma idade'));\n",
        "  if idade >= 20:\n",
        "    media = media + 1;\n",
        "\n",
        "  idade = int(input('Insira uma idade '));\n",
        "  \n",
        "mediaalt = mediaalt + altura;\n",
        "print('Média de altura', mediaalt / media, 'metros');"
      ],
      "execution_count": null,
      "outputs": [
        {
          "output_type": "stream",
          "name": "stdout",
          "text": [
            "Insira uma idade 19\n",
            "Insira uma idade2.0\n",
            "Insira uma idade 22\n",
            "Insira uma idade2.0\n",
            "Insira uma idade 22\n",
            "Insira uma idade1.5\n",
            "Insira uma idade 0\n",
            "Média de altura 1.75\n"
          ]
        }
      ]
    },
    {
      "cell_type": "markdown",
      "metadata": {
        "id": "14hzaqH38V53"
      },
      "source": [
        "###5. Construir um algoritmo para calcular e apresentar a idade atual de algumas pessoas em relação ao ano atual, mas não é informado a quantidade de pessoas, então use como critério de parada (condição da estrutura de repetição, digitar zero no ano de nascimento para sair."
      ]
    },
    {
      "cell_type": "code",
      "metadata": {
        "id": "XxrUc9yWND8a",
        "colab": {
          "base_uri": "https://localhost:8080/"
        },
        "outputId": "58b40bbc-2f4f-48c2-b6c4-4a2fa858dd80"
      },
      "source": [
        "nascimento = int(input('Insira o ano de seu nascimento: '));\n",
        "atual = 2021;\n",
        "idade = atual - nascimento;\n",
        "print('Você tem ', idade, 'anos');\n",
        "while nascimento != 0:\n",
        "  nascimento = int(input('Insira o ano de seu nascimento: '));  \n",
        "  atual = 2021;\n",
        "  idade = atual - nascimento;\n",
        "  print('Você tem ', idade, 'anos');\n",
        "  if nascimento == 0:\n",
        "    print('Obrigado');\n",
        " "
      ],
      "execution_count": null,
      "outputs": [
        {
          "output_type": "stream",
          "name": "stdout",
          "text": [
            "Insira o ano de seu nascimento: 0\n",
            "Você tem  2021 anos\n"
          ]
        }
      ]
    },
    {
      "cell_type": "markdown",
      "metadata": {
        "id": "inPGbmBaMe3R"
      },
      "source": [
        "###6. Faça um programa que receba um conjunto de valores inteiros, calcule e exiba o maior e o menor valor do conjunto.\n",
        "\n",
        "\n",
        "*   Para encerrar a entrada de dados, deve ser digitado o valor zero;\n",
        "*   Para valores negativos, deve ser enviada uma mensagem;\n",
        "*   Esses valores (zero e negativos) não entrarão na lógica de encontrar o maior e o menor valor.\n",
        "\n"
      ]
    },
    {
      "cell_type": "code",
      "metadata": {
        "id": "Q8ZKZyGLNxFf",
        "colab": {
          "base_uri": "https://localhost:8080/"
        },
        "outputId": "70ebf122-1df2-4f33-a5b2-0e3fa4491fbf"
      },
      "source": [
        "numero = int(input('Insira um número'));\n",
        "maior = numero;\n",
        "menor = numero;\n",
        "while numero > 0:\n",
        "  numero = int(input('Insira um número'));\n",
        "  if numero > 0 and numero >= maior:\n",
        "    maior = numero;\n",
        "  if numero > 0 and numero <= menor:\n",
        "    menor = numero;\n",
        "print('O menor é: ', menor);\n",
        "print('O maior é: ', maior);"
      ],
      "execution_count": null,
      "outputs": [
        {
          "output_type": "stream",
          "name": "stdout",
          "text": [
            "Insira um número9\n",
            "Insira um número7\n",
            "Insira um número11\n",
            "Insira um número2\n",
            "Insira um número0\n",
            "O menor é:  2\n",
            "O maior é:  11\n"
          ]
        }
      ]
    },
    {
      "cell_type": "markdown",
      "metadata": {
        "id": "ZG-AZwwLN4Vf"
      },
      "source": [
        "###7. No final do ano muitas pessoas compram presentes. Faça um programa que registre alguns dados das pessoas, usando como critério de parada a letra ‘n’, para a pergunta “Deseja cadastrar outro (‘s’/’n’)?”, para identificar o perfil dos compradores numa loja de roupas e apresente como resultado a:\n",
        "a)   Quantidade de mulheres e de homens;\n",
        "\n",
        "b)   Quantidade de mulheres e de homens abaixo e acima de 18 anos."
      ]
    },
    {
      "cell_type": "code",
      "metadata": {
        "id": "t4jNff-_N9xR",
        "colab": {
          "base_uri": "https://localhost:8080/"
        },
        "outputId": "f6203cb4-4c83-44f7-ccf7-95989fe9b348"
      },
      "source": [
        "# Digite seu código aqui\n",
        "# item a) 2 contadores\n",
        "# item b) 4 contadores \n",
        "sexo = input('Insira o sexo M/F: '.upper());\n",
        "idade = int(input('Entre com a idade: '));\n",
        "resposta = input('Deseja cadastrar outro (s/n)?');\n",
        "qtdF = 0;\n",
        "qtdM = 0;\n",
        "Mmaior = 0;\n",
        "Mmenor = 0;\n",
        "Fmaior = 0;\n",
        "Fmenor = 0;\n",
        "if sexo == 'F':\n",
        "  qtdF = qtdF + 1;\n",
        "if sexo == 'F' and idade >= 18:\n",
        "  Fmaior = Fmaior + 1;\n",
        "if sexo == 'F' and idade < 18:\n",
        "  Fmenor = Fmenor + 1;\n",
        "if sexo == 'M':\n",
        "  qtdM = qtdM + 1;\n",
        "if sexo == 'M' and idade >= 18:\n",
        "  Mmaior = Mmaior + 1;\n",
        "if sexo == 'M' and idade < 18:\n",
        "  Mmenor = Mmenor + 1;\n",
        "while resposta != 'n':\n",
        "  sexo = input('Insira o sexo M/F: '.upper());\n",
        "  idade = int(input('Entre com a idade: '));\n",
        "  if sexo == 'F':\n",
        "    qtdF = qtdF + 1;\n",
        "    if sexo == 'F' and idade >= 18:\n",
        "      Fmaior = Fmaior + 1;\n",
        "    if sexo == 'F' and idade < 18:\n",
        "      Fmenor = Fmenor + 1;\n",
        "  if sexo == 'M':\n",
        "    qtdM = qtdM + 1;\n",
        "    if sexo == 'M' and idade >= 18:\n",
        "      Mmaior = Mmaior + 1;\n",
        "    if sexo == 'M' and idade < 18:\n",
        "      Mmenor = Mmenor + 1;\n",
        "  resposta = input('Deseja cadastrar outro (s/n)?');\n",
        "\n",
        "print('Quantidade de mulheres: ', qtdF, 'Quantidade de homens: ', qtdM);\n",
        "print('Quantidade de mulheres menores de 18 anos: ', Fmenor, 'Quantidade de mulheres maiores de 18 anos: ', Fmaior);\n",
        "print('Quantidade de homens menores de 18 anos: ', Mmenor, 'Quantidade de homens maiores de 18 anos: ', Mmaior);\n",
        "\n"
      ],
      "execution_count": null,
      "outputs": [
        {
          "output_type": "stream",
          "name": "stdout",
          "text": [
            "INSIRA O SEXO M/F: M\n",
            "Entre com a idade: 18\n",
            "Deseja cadastrar outro (s/n)?s\n",
            "INSIRA O SEXO M/F: M\n",
            "Entre com a idade: 11\n",
            "Deseja cadastrar outro (s/n)?s\n",
            "INSIRA O SEXO M/F: F\n",
            "Entre com a idade: 18\n",
            "Deseja cadastrar outro (s/n)?s\n",
            "INSIRA O SEXO M/F: F\n",
            "Entre com a idade: 11\n",
            "Deseja cadastrar outro (s/n)?n\n",
            "Quantidade de mulheres:  2 Quantidade de homens:  2\n",
            "Quantidade de mulheres menores de 18 anos:  1 Quantidade de mulheres maiores de 18 anos:  1\n",
            "Quantidade de homens menores de 18 anos:  1 Quantidade de homens maiores de 18 anos:  1\n"
          ]
        }
      ]
    },
    {
      "cell_type": "markdown",
      "metadata": {
        "id": "FEve7Db281fZ"
      },
      "source": [
        "###8. Faça um programa para o curso de ADS (6 módulos) que calcule e apresente os seguintes itens:\n",
        "*  Quantidade de homens e mulheres de cada módulo;\n",
        "*  Média de idades de cada módulo;\n",
        "*  Quantidade de homens e mulheres do curso todo;\n",
        "*  Média de idades do curso todo."
      ]
    },
    {
      "cell_type": "code",
      "metadata": {
        "id": "GNzAF5KF9v3d",
        "colab": {
          "base_uri": "https://localhost:8080/"
        },
        "outputId": "e9a533fe-eae6-4980-d99b-dd9c247a7426"
      },
      "source": [
        "medcurso = 0\n",
        "fcurso = 0\n",
        "mcurso = 0\n",
        "for modulo in range (1,7):\n",
        "  idmed = 0\n",
        "  masculino = 0\n",
        "  feminino = 0\n",
        "  idade = int(input('Digite a idade: '))\n",
        "  while idade > 0:\n",
        "    idmed = idmed + idade\n",
        "    gender = input('Digite o gênero M/F: ')\n",
        "    contador = 1\n",
        "    if gender == 'M':\n",
        "      masculino = masculino + 1\n",
        "    if gender == 'F':\n",
        "      feminino = feminino + 1\n",
        "    idade = int(input('Digite a idade: '))\n",
        "  media = idmed / (masculino + feminino)\n",
        "  medcurso = medcurso + media\n",
        "  print(modulo,'º módulo \\n')\n",
        "  print(masculino, ' homens no módulo', feminino, ' mulheres no módulo')\n",
        "  print('Média do módulo', media, 'anos')\n",
        "  \n",
        "\n",
        "  mcurso = mcurso + masculino\n",
        "  fcurso = fcurso + feminino\n",
        "medcurso = medcurso / (mcurso + fcurso)\n",
        "\n",
        "print('Idade média do curso todo', medcurso, 'anos')\n",
        "print('Homens: ', mcurso, 'Mulheres: ', fcurso)\n",
        "\n",
        "\n",
        "\n",
        "\n"
      ],
      "execution_count": null,
      "outputs": [
        {
          "output_type": "stream",
          "name": "stdout",
          "text": [
            "Digite a idade: 20\n",
            "Digite o gênero M/F: F\n",
            "Digite a idade: 20\n",
            "Digite o gênero M/F: F\n",
            "Digite a idade: 0\n",
            "1 º módulo \n",
            "\n",
            "0  homens no módulo 2  mulheres no módulo\n",
            "Média do módulo 20.0 anos\n"
          ]
        }
      ]
    }
  ]
}